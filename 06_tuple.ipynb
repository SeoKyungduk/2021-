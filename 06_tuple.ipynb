{
 "cells": [
  {
   "cell_type": "code",
   "execution_count": 1,
   "id": "e957e03a",
   "metadata": {},
   "outputs": [],
   "source": [
    "# 튜플 만들기\n",
    "# 튜플은 리스트와 비슷하지만 리스트는 데이터를 []로 감싸주고 튜플은 ()로 감싸준다는 것과 리스트는 데이터의 수정, 삭제가 가능.\n",
    "# 하지만 튜플은 수정, 삭제가 불가능하다."
   ]
  },
  {
   "cell_type": "code",
   "execution_count": 4,
   "id": "ae930f61",
   "metadata": {},
   "outputs": [
    {
     "name": "stdout",
     "output_type": "stream",
     "text": [
      "()\n",
      "<class 'tuple'>\n",
      "()\n",
      "<class 'tuple'>\n"
     ]
    }
   ],
   "source": [
    "# 비어있는 튜플 만들기\n",
    "a = ()\n",
    "print(a)\n",
    "print(type(a))\n",
    "# 빈 튜플은 생성자 함수를 이용해서도 만들 수 있다.\n",
    "b = tuple()\n",
    "print(b)\n",
    "print(type(b))"
   ]
  },
  {
   "cell_type": "code",
   "execution_count": 20,
   "id": "7d11c05b",
   "metadata": {},
   "outputs": [
    {
     "name": "stdout",
     "output_type": "stream",
     "text": [
      "[1]\n",
      "<class 'list'>\n",
      "1\n",
      "<class 'int'>\n",
      "(1,)\n",
      "<class 'tuple'>\n"
     ]
    }
   ],
   "source": [
    "# 데이터가 1개인 튜플 만들기\n",
    "a = [1]\n",
    "print(a)\n",
    "print(type(a))\n",
    "\n",
    "b = (1) # ()만 사용하면 일반적인 연산식에 사용하는 ()로 인식해서 상수를 기억하는 변수가 만들어진다.\n",
    "print(b)\n",
    "print(type(b))\n",
    "\n",
    "c = (1,)\n",
    "print(c)\n",
    "print(type(c))"
   ]
  },
  {
   "cell_type": "code",
   "execution_count": 27,
   "id": "2d63949d",
   "metadata": {},
   "outputs": [
    {
     "name": "stdout",
     "output_type": "stream",
     "text": [
      "(1, 2)\n",
      "('a', 'b', 'c')\n",
      "(1, 2, 3, 'a', 'b', 'c')\n",
      "(1, 2, 3, ('a', 'b', 'c'))\n",
      "(1, 2, 3, ['a', 'b', 'c'])\n",
      "[1, 2, 3, ('a', 'b', 'c')]\n"
     ]
    }
   ],
   "source": [
    "a = (1, 2)\n",
    "print(a)\n",
    "b = ('a', 'b', 'c')\n",
    "print(b)\n",
    "c = (1, 2, 3, 'a', 'b', 'c')\n",
    "print(c)\n",
    "d = (1, 2, 3, ('a', 'b', 'c'))\n",
    "print(d)\n",
    "e = (1, 2, 3, ['a', 'b', 'c'])\n",
    "print(e)\n",
    "f = [1, 2, 3, ('a', 'b', 'c')]\n",
    "print(f)"
   ]
  },
  {
   "cell_type": "code",
   "execution_count": 30,
   "id": "e75a97be",
   "metadata": {},
   "outputs": [
    {
     "name": "stdout",
     "output_type": "stream",
     "text": [
      "(1, 2, 3, 4, 5, 6, 7)\n",
      "<class 'tuple'>\n"
     ]
    }
   ],
   "source": [
    "# 튜플은 ()를 생략하더라도 변수에 데이터를 ','로 구분해서 여러개를 넣어주면 자동으로 파이썬은 튜플로 인식한다.\n",
    "a = 1, 2, 3, 4, 5, 6, 7\n",
    "print(a)\n",
    "print(type(a))"
   ]
  },
  {
   "cell_type": "code",
   "execution_count": 36,
   "id": "e1fa6742",
   "metadata": {},
   "outputs": [
    {
     "name": "stdout",
     "output_type": "stream",
     "text": [
      "(1, 2, 3, 4, 5, 6, 7)\n",
      "1\n",
      "7\n",
      "(3, 4, 5)\n",
      "(1, 2, 3, 4, 5)\n",
      "(3, 4, 5, 6, 7)\n"
     ]
    }
   ],
   "source": [
    "# 튜플은 리스트처럼 인덱싱과 슬라이싱이 가능한다.\n",
    "a = 1, 2, 3, 4, 5, 6, 7\n",
    "print(a)\n",
    "print(a[0])\n",
    "print(a[-1])\n",
    "print(a[2:5])\n",
    "print(a[:5])\n",
    "print(a[2:])"
   ]
  },
  {
   "cell_type": "code",
   "execution_count": 41,
   "id": "0a4355cb",
   "metadata": {},
   "outputs": [
    {
     "name": "stdout",
     "output_type": "stream",
     "text": [
      "(1, 2, 3)\n",
      "('a', 'b')\n",
      "(1, 2, 3, 'a', 'b')\n",
      "(1, 2, 3, 1, 2, 3, 1, 2, 3)\n"
     ]
    }
   ],
   "source": [
    "# 튜플은 리스트처럼 '+', '*' 연산이 가능하다.\n",
    "a = 1, 2, 3\n",
    "print(a)\n",
    "b = 'a', 'b'\n",
    "print(b)\n",
    "print(a+b)\n",
    "print(a*3)"
   ]
  },
  {
   "cell_type": "code",
   "execution_count": 44,
   "id": "e73c4b6e",
   "metadata": {},
   "outputs": [
    {
     "name": "stdout",
     "output_type": "stream",
     "text": [
      "(1, 2, 3, 4, 5, 6, 7)\n"
     ]
    },
    {
     "ename": "NameError",
     "evalue": "name 'a' is not defined",
     "output_type": "error",
     "traceback": [
      "\u001b[1;31m---------------------------------------------------------------------------\u001b[0m",
      "\u001b[1;31mNameError\u001b[0m                                 Traceback (most recent call last)",
      "\u001b[1;32m~\\AppData\\Local\\Temp/ipykernel_8912/673567892.py\u001b[0m in \u001b[0;36m<module>\u001b[1;34m\u001b[0m\n\u001b[0;32m      5\u001b[0m \u001b[1;31m# del a[0]   # 튜플에 저장된 데이터를 삭제하려 했으므로 에러가 발생된다.\u001b[0m\u001b[1;33m\u001b[0m\u001b[1;33m\u001b[0m\u001b[1;33m\u001b[0m\u001b[0m\n\u001b[0;32m      6\u001b[0m \u001b[1;32mdel\u001b[0m \u001b[0ma\u001b[0m\u001b[1;33m\u001b[0m\u001b[1;33m\u001b[0m\u001b[0m\n\u001b[1;32m----> 7\u001b[1;33m \u001b[0mprint\u001b[0m\u001b[1;33m(\u001b[0m\u001b[0ma\u001b[0m\u001b[1;33m)\u001b[0m\u001b[1;33m\u001b[0m\u001b[1;33m\u001b[0m\u001b[0m\n\u001b[0m",
      "\u001b[1;31mNameError\u001b[0m: name 'a' is not defined"
     ]
    }
   ],
   "source": [
    "# 튜플은 리스트와 달리 수정과 삭제를 할 수 없다. => 한 번 생성한 튜플의 데이터를 변경할 수 없다.\n",
    "a = 1, 2, 3, 4, 5, 6, 7\n",
    "print(a)\n",
    "# a[0] = 'z' # 튜플에 저장된 데이터를 수정하려 했으므로 에러가 발생된다.\n",
    "# del a[0]   # 튜플에 저장된 데이터를 삭제하려 했으므로 에러가 발생된다.\n",
    "del a\n",
    "print(a)"
   ]
  },
  {
   "cell_type": "code",
   "execution_count": 63,
   "id": "c1356c5c",
   "metadata": {},
   "outputs": [
    {
     "name": "stdout",
     "output_type": "stream",
     "text": [
      "a = 3, b = 4\n",
      "a = 4, b = 3\n",
      "a = 3, b = 4\n",
      "a = 4, b = 3\n",
      "a = 3, b = 4\n"
     ]
    }
   ],
   "source": [
    "# 두 기억장소에 저장된 데이터 교환하기\n",
    "a = 3\n",
    "b = 4\n",
    "print('a = {}, b = {}'.format(a, b))\n",
    "\n",
    "temp = a\n",
    "a = b\n",
    "b = temp\n",
    "print('a = {}, b = {}'.format(a, b))\n",
    "\n",
    "[a, b] = [b, a]\n",
    "print('a = {}, b = {}'.format(a, b))\n",
    "\n",
    "(a, b) = (b, a)\n",
    "print('a = {}, b = {}'.format(a, b))\n",
    "\n",
    "a, b = b, a\n",
    "print('a = {}, b = {}'.format(a, b))"
   ]
  },
  {
   "cell_type": "code",
   "execution_count": null,
   "id": "8262b6d6",
   "metadata": {},
   "outputs": [],
   "source": []
  },
  {
   "cell_type": "code",
   "execution_count": null,
   "id": "dcc221f2",
   "metadata": {},
   "outputs": [],
   "source": []
  }
 ],
 "metadata": {
  "kernelspec": {
   "display_name": "Python 3 (ipykernel)",
   "language": "python",
   "name": "python3"
  },
  "language_info": {
   "codemirror_mode": {
    "name": "ipython",
    "version": 3
   },
   "file_extension": ".py",
   "mimetype": "text/x-python",
   "name": "python",
   "nbconvert_exporter": "python",
   "pygments_lexer": "ipython3",
   "version": "3.9.6"
  }
 },
 "nbformat": 4,
 "nbformat_minor": 5
}

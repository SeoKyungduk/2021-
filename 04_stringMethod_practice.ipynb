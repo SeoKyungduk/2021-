{
 "cells": [
  {
   "cell_type": "code",
   "execution_count": 7,
   "id": "b888c96e",
   "metadata": {},
   "outputs": [
    {
     "name": "stdout",
     "output_type": "stream",
     "text": [
      "Ajou university is best university in korea\n",
      "43\n",
      "a\n",
      "a\n"
     ]
    }
   ],
   "source": [
    "a = 'Ajou university is best university in korea'\n",
    "print(a)\n",
    "print(len(a))\n",
    "print(a[-1])\n",
    "print(a[len(a)-1])"
   ]
  },
  {
   "cell_type": "code",
   "execution_count": 8,
   "id": "eca5ff82",
   "metadata": {},
   "outputs": [
    {
     "name": "stdout",
     "output_type": "stream",
     "text": [
      "6\n",
      "3\n",
      "4\n"
     ]
    }
   ],
   "source": [
    "a = 'Ajou university is best university in korea'\n",
    "print(a.count('i'))\n",
    "print(a.count('u'))\n",
    "print(a.count('e'))"
   ]
  },
  {
   "cell_type": "code",
   "execution_count": 10,
   "id": "b2cd5bda",
   "metadata": {},
   "outputs": [
    {
     "name": "stdout",
     "output_type": "stream",
     "text": [
      "7\n",
      "0\n"
     ]
    },
    {
     "ename": "ValueError",
     "evalue": "substring not found",
     "output_type": "error",
     "traceback": [
      "\u001b[1;31m---------------------------------------------------------------------------\u001b[0m",
      "\u001b[1;31mValueError\u001b[0m                                Traceback (most recent call last)",
      "\u001b[1;32m~\\AppData\\Local\\Temp/ipykernel_21672/2839522523.py\u001b[0m in \u001b[0;36m<module>\u001b[1;34m\u001b[0m\n\u001b[0;32m      2\u001b[0m \u001b[0mprint\u001b[0m\u001b[1;33m(\u001b[0m\u001b[0ma\u001b[0m\u001b[1;33m.\u001b[0m\u001b[0mindex\u001b[0m\u001b[1;33m(\u001b[0m\u001b[1;34m'i'\u001b[0m\u001b[1;33m)\u001b[0m\u001b[1;33m)\u001b[0m\u001b[1;33m\u001b[0m\u001b[1;33m\u001b[0m\u001b[0m\n\u001b[0;32m      3\u001b[0m \u001b[0mprint\u001b[0m\u001b[1;33m(\u001b[0m\u001b[0ma\u001b[0m\u001b[1;33m.\u001b[0m\u001b[0mindex\u001b[0m\u001b[1;33m(\u001b[0m\u001b[1;34m'Ajou'\u001b[0m\u001b[1;33m)\u001b[0m\u001b[1;33m)\u001b[0m\u001b[1;33m\u001b[0m\u001b[1;33m\u001b[0m\u001b[0m\n\u001b[1;32m----> 4\u001b[1;33m \u001b[0mprint\u001b[0m\u001b[1;33m(\u001b[0m\u001b[0ma\u001b[0m\u001b[1;33m.\u001b[0m\u001b[0mindex\u001b[0m\u001b[1;33m(\u001b[0m\u001b[1;34m'ajou'\u001b[0m\u001b[1;33m)\u001b[0m\u001b[1;33m)\u001b[0m\u001b[1;33m\u001b[0m\u001b[1;33m\u001b[0m\u001b[0m\n\u001b[0m",
      "\u001b[1;31mValueError\u001b[0m: substring not found"
     ]
    }
   ],
   "source": [
    "a = 'Ajou university is best university in korea'\n",
    "print(a.index('i'))\n",
    "print(a.index('Ajou'))\n",
    "print(a.index('ajou'))"
   ]
  },
  {
   "cell_type": "code",
   "execution_count": 13,
   "id": "b6c9fc64",
   "metadata": {},
   "outputs": [
    {
     "name": "stdout",
     "output_type": "stream",
     "text": [
      "7\n",
      "0\n",
      "-1\n"
     ]
    }
   ],
   "source": [
    "a = 'Ajou university is best university in korea'\n",
    "print(a.find('i'))\n",
    "print(a.find('Ajou'))\n",
    "print(a.find('ajou'))"
   ]
  },
  {
   "cell_type": "code",
   "execution_count": 16,
   "id": "5c7f00b3",
   "metadata": {},
   "outputs": [
    {
     "name": "stdout",
     "output_type": "stream",
     "text": [
      "A,j,o,u, ,u,n,i,v,e,r,s,i,t,y, ,i,s, ,b,e,s,t, ,u,n,i,v,e,r,s,i,t,y, ,i,n, ,k,o,r,e,a\n",
      "A.j.o.u. .u.n.i.v.e.r.s.i.t.y. .i.s. .b.e.s.t. .u.n.i.v.e.r.s.i.t.y. .i.n. .k.o.r.e.a\n",
      "A j o u   u n i v e r s i t y   i s   b e s t   u n i v e r s i t y   i n   k o r e a\n"
     ]
    }
   ],
   "source": [
    "a = 'Ajou university is best university in korea'\n",
    "print(','.join(a))\n",
    "print('.'.join(a))\n",
    "print(' '.join(a))"
   ]
  },
  {
   "cell_type": "code",
   "execution_count": 20,
   "id": "d0d3387b",
   "metadata": {},
   "outputs": [
    {
     "name": "stdout",
     "output_type": "stream",
     "text": [
      "AJOU UNIVERSITY IS BEST UNIVERSITY IN KOREA\n",
      "ajou university is best university in korea\n"
     ]
    }
   ],
   "source": [
    "a = 'Ajou university is best university in korea'\n",
    "print(a.upper())\n",
    "print(a.lower())"
   ]
  },
  {
   "cell_type": "code",
   "execution_count": 25,
   "id": "d74fcc49",
   "metadata": {},
   "outputs": [
    {
     "name": "stdout",
     "output_type": "stream",
     "text": [
      "10\n",
      "   Ajou   \n",
      "Ajou   \n",
      "   Ajou\n",
      "Ajou\n"
     ]
    }
   ],
   "source": [
    "a = '   Ajou   '\n",
    "print(len(a))\n",
    "print(a)\n",
    "print(a.lstrip())\n",
    "print(a.rstrip())\n",
    "print(a.strip())"
   ]
  },
  {
   "cell_type": "code",
   "execution_count": 27,
   "id": "d76ff647",
   "metadata": {},
   "outputs": [
    {
     "name": "stdout",
     "output_type": "stream",
     "text": [
      "Ajou university is good university in korea\n",
      "Ajou university is best university in asia\n"
     ]
    }
   ],
   "source": [
    "a = 'Ajou university is best university in korea'\n",
    "print(a.replace('best', 'good'))\n",
    "print(a.replace('korea', 'asia'))"
   ]
  },
  {
   "cell_type": "code",
   "execution_count": 32,
   "id": "ae212586",
   "metadata": {},
   "outputs": [
    {
     "name": "stdout",
     "output_type": "stream",
     "text": [
      "['Ajou', 'university,', 'is', 'best', 'university', 'in', 'korea']\n",
      "<class 'list'>\n",
      "['Ajou university', ' is best university in korea']\n",
      "<class 'str'>\n"
     ]
    },
    {
     "ename": "TypeError",
     "evalue": "'str' object cannot be interpreted as an integer",
     "output_type": "error",
     "traceback": [
      "\u001b[1;31m---------------------------------------------------------------------------\u001b[0m",
      "\u001b[1;31mTypeError\u001b[0m                                 Traceback (most recent call last)",
      "\u001b[1;32m~\\AppData\\Local\\Temp/ipykernel_21672/1444686417.py\u001b[0m in \u001b[0;36m<module>\u001b[1;34m\u001b[0m\n\u001b[0;32m      4\u001b[0m \u001b[0mprint\u001b[0m\u001b[1;33m(\u001b[0m\u001b[0ma\u001b[0m\u001b[1;33m.\u001b[0m\u001b[0msplit\u001b[0m\u001b[1;33m(\u001b[0m\u001b[1;34m','\u001b[0m\u001b[1;33m)\u001b[0m\u001b[1;33m)\u001b[0m\u001b[1;33m\u001b[0m\u001b[1;33m\u001b[0m\u001b[0m\n\u001b[0;32m      5\u001b[0m \u001b[0mprint\u001b[0m\u001b[1;33m(\u001b[0m\u001b[0mtype\u001b[0m\u001b[1;33m(\u001b[0m\u001b[0ma\u001b[0m\u001b[1;33m)\u001b[0m\u001b[1;33m)\u001b[0m\u001b[1;33m\u001b[0m\u001b[1;33m\u001b[0m\u001b[0m\n\u001b[1;32m----> 6\u001b[1;33m \u001b[0mprint\u001b[0m\u001b[1;33m(\u001b[0m\u001b[0ma\u001b[0m\u001b[1;33m.\u001b[0m\u001b[0msplit\u001b[0m\u001b[1;33m(\u001b[0m\u001b[1;34m','\u001b[0m\u001b[1;33m,\u001b[0m \u001b[1;34m'e'\u001b[0m\u001b[1;33m)\u001b[0m\u001b[1;33m)\u001b[0m\u001b[1;33m\u001b[0m\u001b[1;33m\u001b[0m\u001b[0m\n\u001b[0m",
      "\u001b[1;31mTypeError\u001b[0m: 'str' object cannot be interpreted as an integer"
     ]
    }
   ],
   "source": [
    "a = 'Ajou university, is best university in korea'\n",
    "print(a.split())\n",
    "print(type(a.split()))\n",
    "print(a.split(','))\n",
    "print(type(a))\n",
    "print(a.split(',', 'e'))"
   ]
  },
  {
   "cell_type": "code",
   "execution_count": 35,
   "id": "7ac39865",
   "metadata": {},
   "outputs": [
    {
     "name": "stdout",
     "output_type": "stream",
     "text": [
      "Ajou\n",
      "ajou\n",
      "ajou\n",
      "ajou\n"
     ]
    }
   ],
   "source": [
    "print('   Ajou   '.strip())\n",
    "print('www.ajou.com'.strip('w.com'))\n",
    "print('www.ajou.com'.strip('.comw'))\n",
    "print('www.ajou.com'.strip('.wcom'))"
   ]
  },
  {
   "cell_type": "code",
   "execution_count": 38,
   "id": "8fb0ad26",
   "metadata": {},
   "outputs": [
    {
     "name": "stdout",
     "output_type": "stream",
     "text": [
      "                     ajou                best            \n",
      "ajou                best\n"
     ]
    }
   ],
   "source": [
    "a = '                     ajou                best            '\n",
    "print(a)\n",
    "print(a.strip())"
   ]
  },
  {
   "cell_type": "code",
   "execution_count": 39,
   "id": "1ff472af",
   "metadata": {},
   "outputs": [
    {
     "name": "stdout",
     "output_type": "stream",
     "text": [
      "ajoubest\n"
     ]
    }
   ],
   "source": [
    "print(a.replace(' ', ''))"
   ]
  },
  {
   "cell_type": "code",
   "execution_count": 42,
   "id": "e3a9fc9a",
   "metadata": {},
   "outputs": [
    {
     "name": "stdout",
     "output_type": "stream",
     "text": [
      "['ajou', 'best']\n",
      "ajou best\n"
     ]
    }
   ],
   "source": [
    "print(a.split())\n",
    "print(' '.join(a.split()))"
   ]
  },
  {
   "cell_type": "code",
   "execution_count": null,
   "id": "2913b61d",
   "metadata": {},
   "outputs": [],
   "source": []
  },
  {
   "cell_type": "code",
   "execution_count": null,
   "id": "92084d80",
   "metadata": {},
   "outputs": [],
   "source": []
  }
 ],
 "metadata": {
  "kernelspec": {
   "display_name": "Python 3 (ipykernel)",
   "language": "python",
   "name": "python3"
  },
  "language_info": {
   "codemirror_mode": {
    "name": "ipython",
    "version": 3
   },
   "file_extension": ".py",
   "mimetype": "text/x-python",
   "name": "python",
   "nbconvert_exporter": "python",
   "pygments_lexer": "ipython3",
   "version": "3.9.6"
  }
 },
 "nbformat": 4,
 "nbformat_minor": 5
}

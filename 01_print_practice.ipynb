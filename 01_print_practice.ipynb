{
 "cells": [
  {
   "cell_type": "code",
   "execution_count": 1,
   "id": "839a42b4",
   "metadata": {},
   "outputs": [
    {
     "name": "stdout",
     "output_type": "stream",
     "text": [
      "Hello Python\n"
     ]
    }
   ],
   "source": [
    "print('Hello Python')"
   ]
  },
  {
   "cell_type": "code",
   "execution_count": 2,
   "id": "677906b6",
   "metadata": {},
   "outputs": [],
   "source": [
    "# 아주대학교 기계공학과"
   ]
  },
  {
   "cell_type": "code",
   "execution_count": 3,
   "id": "8c2ab1bb",
   "metadata": {},
   "outputs": [
    {
     "name": "stdout",
     "output_type": "stream",
     "text": [
      "Hello Python\n"
     ]
    }
   ],
   "source": [
    "print('Hello Python')"
   ]
  },
  {
   "cell_type": "code",
   "execution_count": 4,
   "id": "f7647f3d",
   "metadata": {},
   "outputs": [
    {
     "name": "stdout",
     "output_type": "stream",
     "text": [
      "AJOU UNIV\n"
     ]
    }
   ],
   "source": [
    "print(\"AJOU UNIV\")"
   ]
  },
  {
   "cell_type": "code",
   "execution_count": 5,
   "id": "4c74e4a3",
   "metadata": {},
   "outputs": [
    {
     "name": "stdout",
     "output_type": "stream",
     "text": [
      "아주대학교 기계공학과 \"서경덕\"\n"
     ]
    }
   ],
   "source": [
    "print('아주대학교 기계공학과 \"서경덕\"')"
   ]
  },
  {
   "cell_type": "code",
   "execution_count": 6,
   "id": "e7e6b422",
   "metadata": {},
   "outputs": [
    {
     "name": "stdout",
     "output_type": "stream",
     "text": [
      "아주대학교 기계공학과 '서경덕'\n"
     ]
    }
   ],
   "source": [
    "print(\"아주대학교 기계공학과 '서경덕'\")"
   ]
  },
  {
   "cell_type": "code",
   "execution_count": 11,
   "id": "a2e4d4fe",
   "metadata": {},
   "outputs": [
    {
     "name": "stdout",
     "output_type": "stream",
     "text": [
      "아주대학교 기계공학과'서경덕' 공학도\n"
     ]
    }
   ],
   "source": [
    "print(\"아주대학교 기계공학과\\'서경덕\\' 공학도\")"
   ]
  },
  {
   "cell_type": "code",
   "execution_count": 13,
   "id": "cf2b770a",
   "metadata": {},
   "outputs": [
    {
     "name": "stdout",
     "output_type": "stream",
     "text": [
      "아주대학교 기계공학과\"서경덕\" 공학도\n"
     ]
    }
   ],
   "source": [
    "print('아주대학교 기계공학과\\\"서경덕\\\" 공학도')"
   ]
  },
  {
   "cell_type": "code",
   "execution_count": 14,
   "id": "42138c45",
   "metadata": {},
   "outputs": [
    {
     "name": "stdout",
     "output_type": "stream",
     "text": [
      "아주대학교 기계공학과"
     ]
    }
   ],
   "source": [
    "print('아주대학교 기계공학과', end='')"
   ]
  },
  {
   "cell_type": "code",
   "execution_count": 16,
   "id": "ec75d57f",
   "metadata": {},
   "outputs": [
    {
     "name": "stdout",
     "output_type": "stream",
     "text": [
      "아주대학교 기계공학과 \n",
      " 서경덕\n"
     ]
    }
   ],
   "source": [
    "print('아주대학교 기계공학과 \\n 서경덕')"
   ]
  },
  {
   "cell_type": "code",
   "execution_count": 17,
   "id": "6a54b6ad",
   "metadata": {},
   "outputs": [
    {
     "name": "stdout",
     "output_type": "stream",
     "text": [
      "아주대학교 기계공학과\n"
     ]
    }
   ],
   "source": [
    "print('아주대학교', '기계공학과')"
   ]
  },
  {
   "cell_type": "code",
   "execution_count": 19,
   "id": "5b83dff6",
   "metadata": {},
   "outputs": [
    {
     "name": "stdout",
     "output_type": "stream",
     "text": [
      "아주대학교 기계공학과\n"
     ]
    }
   ],
   "source": [
    "print('아주대학교', '기계공학과', sep=' ')"
   ]
  },
  {
   "cell_type": "code",
   "execution_count": 20,
   "id": "00fcfc58",
   "metadata": {},
   "outputs": [
    {
     "name": "stdout",
     "output_type": "stream",
     "text": [
      "아주대학교 최고의 학과 기계공학과\n"
     ]
    }
   ],
   "source": [
    "print('아주대학교', '기계공학과', sep=' 최고의 학과 ')"
   ]
  },
  {
   "cell_type": "code",
   "execution_count": 22,
   "id": "6d5b2685",
   "metadata": {},
   "outputs": [
    {
     "name": "stdout",
     "output_type": "stream",
     "text": [
      "AB\n"
     ]
    }
   ],
   "source": [
    "print('A' + 'B')"
   ]
  },
  {
   "cell_type": "code",
   "execution_count": 23,
   "id": "c7af68c1",
   "metadata": {},
   "outputs": [
    {
     "name": "stdout",
     "output_type": "stream",
     "text": [
      "7\n"
     ]
    }
   ],
   "source": [
    "print(3 + 4)"
   ]
  },
  {
   "cell_type": "code",
   "execution_count": 24,
   "id": "6aee2883",
   "metadata": {},
   "outputs": [
    {
     "ename": "TypeError",
     "evalue": "can only concatenate str (not \"int\") to str",
     "output_type": "error",
     "traceback": [
      "\u001b[1;31m---------------------------------------------------------------------------\u001b[0m",
      "\u001b[1;31mTypeError\u001b[0m                                 Traceback (most recent call last)",
      "\u001b[1;32m~\\AppData\\Local\\Temp/ipykernel_9104/1186836027.py\u001b[0m in \u001b[0;36m<module>\u001b[1;34m\u001b[0m\n\u001b[1;32m----> 1\u001b[1;33m \u001b[0mprint\u001b[0m\u001b[1;33m(\u001b[0m\u001b[1;34m'A'\u001b[0m \u001b[1;33m+\u001b[0m \u001b[1;36m3\u001b[0m\u001b[1;33m)\u001b[0m\u001b[1;33m\u001b[0m\u001b[1;33m\u001b[0m\u001b[0m\n\u001b[0m",
      "\u001b[1;31mTypeError\u001b[0m: can only concatenate str (not \"int\") to str"
     ]
    }
   ],
   "source": [
    "print('A' + 3)"
   ]
  },
  {
   "cell_type": "code",
   "execution_count": 25,
   "id": "d0a546da",
   "metadata": {},
   "outputs": [
    {
     "name": "stdout",
     "output_type": "stream",
     "text": [
      "100\n",
      "1\n",
      "10\n"
     ]
    }
   ],
   "source": [
    "print(100)\n",
    "print(1)\n",
    "print(10)"
   ]
  },
  {
   "cell_type": "code",
   "execution_count": 33,
   "id": "dbf23a4d",
   "metadata": {},
   "outputs": [
    {
     "name": "stdout",
     "output_type": "stream",
     "text": [
      "  100\n",
      "    1\n",
      "1    \n",
      "00001\n",
      "10000\n"
     ]
    }
   ],
   "source": [
    "print('%5d' %100)\n",
    "print('%5d' %1)\n",
    "print('%-5d' %1)\n",
    "print('%05d' %1)\n",
    "print('%5d' %10000)"
   ]
  },
  {
   "cell_type": "code",
   "execution_count": 34,
   "id": "f6abc071",
   "metadata": {},
   "outputs": [
    {
     "name": "stdout",
     "output_type": "stream",
     "text": [
      "abc\n",
      "a\n",
      "abcde\n"
     ]
    }
   ],
   "source": [
    "print('abc')\n",
    "print('a')\n",
    "print('abcde')"
   ]
  },
  {
   "cell_type": "code",
   "execution_count": 40,
   "id": "64c7c004",
   "metadata": {},
   "outputs": [
    {
     "name": "stdout",
     "output_type": "stream",
     "text": [
      "    a\n",
      "a    \n",
      "    a\n",
      "abcde\n"
     ]
    }
   ],
   "source": [
    "print('%5s' %'a')\n",
    "print('%-5s' %'a')\n",
    "print('%05s' %'a')\n",
    "print('%5s' %'abcde')"
   ]
  },
  {
   "cell_type": "code",
   "execution_count": 45,
   "id": "38bab153",
   "metadata": {},
   "outputs": [
    {
     "name": "stdout",
     "output_type": "stream",
     "text": [
      "123.45\n",
      "123.457\n",
      "123.46\n"
     ]
    }
   ],
   "source": [
    "print('%6.2f' %123.45)\n",
    "print('%6.3f' %123.4567)\n",
    "print('%6.2f' %123.456)"
   ]
  },
  {
   "cell_type": "code",
   "execution_count": 48,
   "id": "fc85bd20",
   "metadata": {},
   "outputs": [
    {
     "name": "stdout",
     "output_type": "stream",
     "text": [
      "5 + 3 = 8\n"
     ]
    }
   ],
   "source": [
    "print('%d + %d = %d' %(5, 3, 5+3))"
   ]
  },
  {
   "cell_type": "code",
   "execution_count": 49,
   "id": "b3cb1d9c",
   "metadata": {},
   "outputs": [
    {
     "name": "stdout",
     "output_type": "stream",
     "text": [
      "5 - 3 = 2\n"
     ]
    }
   ],
   "source": [
    "print('%d - %d = %d' %(5, 3, 5-3))"
   ]
  },
  {
   "cell_type": "code",
   "execution_count": 51,
   "id": "4425b9f5",
   "metadata": {},
   "outputs": [
    {
     "name": "stdout",
     "output_type": "stream",
     "text": [
      "5 * 3 = 15\n"
     ]
    }
   ],
   "source": [
    "print('%d * %d = %d' %(5, 3, 5*3))"
   ]
  },
  {
   "cell_type": "code",
   "execution_count": 53,
   "id": "f52c8c2c",
   "metadata": {},
   "outputs": [
    {
     "name": "stdout",
     "output_type": "stream",
     "text": [
      "5 / 3 = 1.666667\n"
     ]
    }
   ],
   "source": [
    "print('%d / %d = %f' %(5, 3, 5/3))"
   ]
  },
  {
   "cell_type": "code",
   "execution_count": 54,
   "id": "344612d4",
   "metadata": {},
   "outputs": [
    {
     "name": "stdout",
     "output_type": "stream",
     "text": [
      "5 / 3 = 1\n"
     ]
    }
   ],
   "source": [
    "print('%d / %d = %d' %(5, 3, 5/3))"
   ]
  },
  {
   "cell_type": "code",
   "execution_count": 56,
   "id": "95013d95",
   "metadata": {},
   "outputs": [
    {
     "name": "stdout",
     "output_type": "stream",
     "text": [
      "5 // 3 = 1\n"
     ]
    }
   ],
   "source": [
    "print('%d // %d = %d' %(5, 3, 5//3))"
   ]
  },
  {
   "cell_type": "code",
   "execution_count": 57,
   "id": "e7192859",
   "metadata": {},
   "outputs": [
    {
     "name": "stdout",
     "output_type": "stream",
     "text": [
      "5 // 3 = 1.000000\n"
     ]
    }
   ],
   "source": [
    "print('%d // %d = %f' %(5, 3, 5//3))"
   ]
  },
  {
   "cell_type": "code",
   "execution_count": 59,
   "id": "6ac72af8",
   "metadata": {},
   "outputs": [
    {
     "name": "stdout",
     "output_type": "stream",
     "text": [
      "5 % 3 = 2.000000\n"
     ]
    }
   ],
   "source": [
    "print('%d %% %d = %f' %(5, 3, 5%3))"
   ]
  },
  {
   "cell_type": "code",
   "execution_count": 60,
   "id": "6ef52cc9",
   "metadata": {},
   "outputs": [
    {
     "name": "stdout",
     "output_type": "stream",
     "text": [
      "5의 2승 = 25\n"
     ]
    }
   ],
   "source": [
    "print('%d의 %d승 = %d' %(5, 2, 5**2))"
   ]
  },
  {
   "cell_type": "code",
   "execution_count": 62,
   "id": "42628d02",
   "metadata": {},
   "outputs": [
    {
     "name": "stdout",
     "output_type": "stream",
     "text": [
      "루트 2 = 1.414214\n"
     ]
    }
   ],
   "source": [
    "print('루트 %d = %f' %(2, 2**0.5))"
   ]
  },
  {
   "cell_type": "code",
   "execution_count": 64,
   "id": "b102b95c",
   "metadata": {},
   "outputs": [
    {
     "name": "stdout",
     "output_type": "stream",
     "text": [
      "5 + 3 = 8\n"
     ]
    }
   ],
   "source": [
    "print('%d + %d = %d' %(5, 3, 5 + 3))"
   ]
  },
  {
   "cell_type": "code",
   "execution_count": 66,
   "id": "be74f509",
   "metadata": {},
   "outputs": [
    {
     "name": "stdout",
     "output_type": "stream",
     "text": [
      "5 + 3 = 8\n"
     ]
    }
   ],
   "source": [
    "print('{} + {} = {}'.format(5, 3, 5+3))"
   ]
  },
  {
   "cell_type": "code",
   "execution_count": 67,
   "id": "c8ddce52",
   "metadata": {},
   "outputs": [
    {
     "name": "stdout",
     "output_type": "stream",
     "text": [
      "5 - 3 = 2\n"
     ]
    }
   ],
   "source": [
    "print('{} - {} = {}'.format(5, 3, 5-3))"
   ]
  },
  {
   "cell_type": "code",
   "execution_count": 68,
   "id": "457805d5",
   "metadata": {},
   "outputs": [
    {
     "name": "stdout",
     "output_type": "stream",
     "text": [
      "5 * 3 = 15\n"
     ]
    }
   ],
   "source": [
    "print('{} * {} = {}'.format(5, 3, 5*3))"
   ]
  },
  {
   "cell_type": "code",
   "execution_count": 69,
   "id": "0edaa1f0",
   "metadata": {},
   "outputs": [
    {
     "name": "stdout",
     "output_type": "stream",
     "text": [
      "5 / 3 = 1.6666666666666667\n"
     ]
    }
   ],
   "source": [
    "print('{} / {} = {}'.format(5, 3, 5/3))"
   ]
  },
  {
   "cell_type": "code",
   "execution_count": 70,
   "id": "a56b12fb",
   "metadata": {},
   "outputs": [
    {
     "name": "stdout",
     "output_type": "stream",
     "text": [
      "5 // 3 = 1\n"
     ]
    }
   ],
   "source": [
    "print('{} // {} = {}'.format(5, 3, 5//3))"
   ]
  },
  {
   "cell_type": "code",
   "execution_count": 71,
   "id": "fbf67f5e",
   "metadata": {},
   "outputs": [
    {
     "name": "stdout",
     "output_type": "stream",
     "text": [
      "5 % 3 = 2\n"
     ]
    }
   ],
   "source": [
    "print('{} % {} = {}'.format(5, 3, 5%3))"
   ]
  },
  {
   "cell_type": "code",
   "execution_count": 72,
   "id": "f13d6528",
   "metadata": {},
   "outputs": [
    {
     "name": "stdout",
     "output_type": "stream",
     "text": [
      "2의 제곱은 4\n"
     ]
    }
   ],
   "source": [
    "print('{}의 제곱은 {}'.format(2, 4))"
   ]
  },
  {
   "cell_type": "code",
   "execution_count": 74,
   "id": "61878753",
   "metadata": {},
   "outputs": [
    {
     "name": "stdout",
     "output_type": "stream",
     "text": [
      "루트 2 = 1.4142135623730951\n"
     ]
    }
   ],
   "source": [
    "print('루트 {} = {}'.format(2, 2**0.5))"
   ]
  },
  {
   "cell_type": "code",
   "execution_count": 75,
   "id": "aa8bb1f0",
   "metadata": {},
   "outputs": [
    {
     "name": "stdout",
     "output_type": "stream",
     "text": [
      "홍길동 바보\n"
     ]
    }
   ],
   "source": [
    "print('{} {}'.format('홍길동', '바보'))"
   ]
  },
  {
   "cell_type": "code",
   "execution_count": 76,
   "id": "f0696be1",
   "metadata": {},
   "outputs": [
    {
     "name": "stdout",
     "output_type": "stream",
     "text": [
      "홍길동 임꺽정\n"
     ]
    }
   ],
   "source": [
    "print('{} {}'.format('홍길동', '임꺽정', '바보'))"
   ]
  },
  {
   "cell_type": "code",
   "execution_count": 77,
   "id": "1e865143",
   "metadata": {},
   "outputs": [
    {
     "ename": "IndexError",
     "evalue": "Replacement index 2 out of range for positional args tuple",
     "output_type": "error",
     "traceback": [
      "\u001b[1;31m---------------------------------------------------------------------------\u001b[0m",
      "\u001b[1;31mIndexError\u001b[0m                                Traceback (most recent call last)",
      "\u001b[1;32m~\\AppData\\Local\\Temp/ipykernel_9104/2773214585.py\u001b[0m in \u001b[0;36m<module>\u001b[1;34m\u001b[0m\n\u001b[1;32m----> 1\u001b[1;33m \u001b[0mprint\u001b[0m\u001b[1;33m(\u001b[0m\u001b[1;34m'{} {} {}'\u001b[0m\u001b[1;33m.\u001b[0m\u001b[0mformat\u001b[0m\u001b[1;33m(\u001b[0m\u001b[1;34m'홍길동'\u001b[0m\u001b[1;33m,\u001b[0m \u001b[1;34m'바보'\u001b[0m\u001b[1;33m)\u001b[0m\u001b[1;33m)\u001b[0m\u001b[1;33m\u001b[0m\u001b[1;33m\u001b[0m\u001b[0m\n\u001b[0m",
      "\u001b[1;31mIndexError\u001b[0m: Replacement index 2 out of range for positional args tuple"
     ]
    }
   ],
   "source": [
    "print('{} {} {}'.format('홍길동', '바보'))"
   ]
  },
  {
   "cell_type": "code",
   "execution_count": 78,
   "id": "1a576e4a",
   "metadata": {},
   "outputs": [
    {
     "name": "stdout",
     "output_type": "stream",
     "text": [
      "바보 홍길동\n"
     ]
    }
   ],
   "source": [
    "print('{1} {0}'.format('홍길동', '바보'))"
   ]
  },
  {
   "cell_type": "code",
   "execution_count": 80,
   "id": "f871bb19",
   "metadata": {},
   "outputs": [
    {
     "name": "stdout",
     "output_type": "stream",
     "text": [
      "바보 홍길동 바보\n"
     ]
    }
   ],
   "source": [
    "print('{0} {1} {0}'.format('바보', '홍길동'))"
   ]
  },
  {
   "cell_type": "code",
   "execution_count": 81,
   "id": "265899ed",
   "metadata": {},
   "outputs": [
    {
     "ename": "ValueError",
     "evalue": "cannot switch from manual field specification to automatic field numbering",
     "output_type": "error",
     "traceback": [
      "\u001b[1;31m---------------------------------------------------------------------------\u001b[0m",
      "\u001b[1;31mValueError\u001b[0m                                Traceback (most recent call last)",
      "\u001b[1;32m~\\AppData\\Local\\Temp/ipykernel_9104/2969867598.py\u001b[0m in \u001b[0;36m<module>\u001b[1;34m\u001b[0m\n\u001b[1;32m----> 1\u001b[1;33m \u001b[0mprint\u001b[0m\u001b[1;33m(\u001b[0m\u001b[1;34m'{0} {}'\u001b[0m\u001b[1;33m.\u001b[0m\u001b[0mformat\u001b[0m\u001b[1;33m(\u001b[0m\u001b[1;34m'바보'\u001b[0m\u001b[1;33m,\u001b[0m \u001b[1;34m'홍길동'\u001b[0m\u001b[1;33m)\u001b[0m\u001b[1;33m)\u001b[0m\u001b[1;33m\u001b[0m\u001b[1;33m\u001b[0m\u001b[0m\n\u001b[0m",
      "\u001b[1;31mValueError\u001b[0m: cannot switch from manual field specification to automatic field numbering"
     ]
    }
   ],
   "source": [
    "print('{0} {}'.format('바보', '홍길동'))"
   ]
  },
  {
   "cell_type": "code",
   "execution_count": 84,
   "id": "dbb42026",
   "metadata": {},
   "outputs": [
    {
     "name": "stdout",
     "output_type": "stream",
     "text": [
      "홍길동님의 나이는 20입니다.\n"
     ]
    }
   ],
   "source": [
    "print('%s님의 나이는 %d입니다.' %('홍길동', 20))"
   ]
  },
  {
   "cell_type": "code",
   "execution_count": 85,
   "id": "ca33d3b2",
   "metadata": {},
   "outputs": [
    {
     "name": "stdout",
     "output_type": "stream",
     "text": [
      "홍길동님의 나이는 20입니다.\n"
     ]
    }
   ],
   "source": [
    "print('{}님의 나이는 {}입니다.'.format('홍길동', 20))"
   ]
  },
  {
   "cell_type": "code",
   "execution_count": 86,
   "id": "51c7a151",
   "metadata": {},
   "outputs": [
    {
     "name": "stdout",
     "output_type": "stream",
     "text": [
      "홍길동님의 나이는 20입니다.\n"
     ]
    }
   ],
   "source": [
    "print('{0}님의 나이는 {1}입니다.'.format('홍길동', 20))"
   ]
  },
  {
   "cell_type": "code",
   "execution_count": 88,
   "id": "8af1f84d",
   "metadata": {},
   "outputs": [
    {
     "name": "stdout",
     "output_type": "stream",
     "text": [
      "홍길동       님의 나이는    20입니다.\n"
     ]
    }
   ],
   "source": [
    "print('{0:10s}님의 나이는 {1:5d}입니다.'.format('홍길동', 20))"
   ]
  },
  {
   "cell_type": "code",
   "execution_count": 91,
   "id": "8893ceb3",
   "metadata": {},
   "outputs": [
    {
     "name": "stdout",
     "output_type": "stream",
     "text": [
      "홍길동       님의 나이는 200,000\n"
     ]
    }
   ],
   "source": [
    "print('{0:10s}님의 나이는 {1:7,d}'.format('홍길동', 200000))"
   ]
  },
  {
   "cell_type": "code",
   "execution_count": 97,
   "id": "0bfd5d76",
   "metadata": {},
   "outputs": [
    {
     "name": "stdout",
     "output_type": "stream",
     "text": [
      "홍길동       님의 나이는 123.46\n"
     ]
    }
   ],
   "source": [
    "print('{0:10s}님의 나이는 {1:5.2f}'.format('홍길동', 123.4567))"
   ]
  },
  {
   "cell_type": "code",
   "execution_count": 98,
   "id": "354e25ff",
   "metadata": {},
   "outputs": [
    {
     "name": "stdout",
     "output_type": "stream",
     "text": [
      "홍길동       님의 나이는    20입니다.\n"
     ]
    }
   ],
   "source": [
    "print('{0:10s}님의 나이는 {1:5d}입니다.'.format('홍길동', 20))"
   ]
  },
  {
   "cell_type": "code",
   "execution_count": 99,
   "id": "679bc9b4",
   "metadata": {},
   "outputs": [
    {
     "name": "stdout",
     "output_type": "stream",
     "text": [
      "홍길동       님의 나이는    20입니다.\n"
     ]
    }
   ],
   "source": [
    "print('{0:<10s}님의 나이는 {1:5d}입니다.'.format('홍길동', 20))"
   ]
  },
  {
   "cell_type": "code",
   "execution_count": 103,
   "id": "66624ee5",
   "metadata": {},
   "outputs": [
    {
     "name": "stdout",
     "output_type": "stream",
     "text": [
      "       홍길동님의 나이는    20입니다.\n"
     ]
    }
   ],
   "source": [
    "print('{0:>10s}님의 나이는 {1:5d}입니다.'.format('홍길동', 20))"
   ]
  },
  {
   "cell_type": "code",
   "execution_count": 104,
   "id": "14ee9a81",
   "metadata": {},
   "outputs": [
    {
     "name": "stdout",
     "output_type": "stream",
     "text": [
      "   홍길동    님의 나이는    20입니다.\n"
     ]
    }
   ],
   "source": [
    "print('{0:^10s}님의 나이는 {1:5d}입니다.'.format('홍길동', 20))"
   ]
  },
  {
   "cell_type": "code",
   "execution_count": 107,
   "id": "c1a5cf5a",
   "metadata": {},
   "outputs": [
    {
     "name": "stdout",
     "output_type": "stream",
     "text": [
      "홍길동_______님의 나이는 20___입니다.\n"
     ]
    }
   ],
   "source": [
    "print('{0:_<10s}님의 나이는 {1:_<5d}입니다.'.format('홍길동', 20))"
   ]
  },
  {
   "cell_type": "code",
   "execution_count": 108,
   "id": "fb2e1a34",
   "metadata": {},
   "outputs": [
    {
     "name": "stdout",
     "output_type": "stream",
     "text": [
      "_______홍길동님의 나이는 ___20입니다.\n"
     ]
    }
   ],
   "source": [
    "print('{0:_>10s}님의 나이는 {1:_>5d}입니다.'.format('홍길동', 20))"
   ]
  },
  {
   "cell_type": "code",
   "execution_count": 109,
   "id": "ef9cec97",
   "metadata": {},
   "outputs": [
    {
     "name": "stdout",
     "output_type": "stream",
     "text": [
      "___홍길동____님의 나이는 ___20입니다.\n"
     ]
    }
   ],
   "source": [
    "print('{0:_^10s}님의 나이는 {1:_>5d}입니다.'.format('홍길동', 20))"
   ]
  },
  {
   "cell_type": "code",
   "execution_count": null,
   "id": "2b7c90dd",
   "metadata": {},
   "outputs": [],
   "source": []
  },
  {
   "cell_type": "code",
   "execution_count": null,
   "id": "29c9241f",
   "metadata": {},
   "outputs": [],
   "source": []
  },
  {
   "cell_type": "code",
   "execution_count": null,
   "id": "936f2b85",
   "metadata": {},
   "outputs": [],
   "source": []
  }
 ],
 "metadata": {
  "kernelspec": {
   "display_name": "Python 3 (ipykernel)",
   "language": "python",
   "name": "python3"
  },
  "language_info": {
   "codemirror_mode": {
    "name": "ipython",
    "version": 3
   },
   "file_extension": ".py",
   "mimetype": "text/x-python",
   "name": "python",
   "nbconvert_exporter": "python",
   "pygments_lexer": "ipython3",
   "version": "3.9.6"
  }
 },
 "nbformat": 4,
 "nbformat_minor": 5
}

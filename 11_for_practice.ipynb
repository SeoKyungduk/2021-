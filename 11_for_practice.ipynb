{
 "cells": [
  {
   "cell_type": "code",
   "execution_count": 1,
   "id": "7970bcd9",
   "metadata": {
    "scrolled": true
   },
   "outputs": [
    {
     "name": "stdout",
     "output_type": "stream",
     "text": [
      "피자\n",
      "햄버거\n",
      "치킨\n"
     ]
    }
   ],
   "source": [
    "a = ['피자', '햄버거', '치킨']\n",
    "for food in a:\n",
    "    print(food)"
   ]
  },
  {
   "cell_type": "code",
   "execution_count": 2,
   "id": "904265c8",
   "metadata": {},
   "outputs": [
    {
     "name": "stdout",
     "output_type": "stream",
     "text": [
      "1번 학생은 합격입니다.\n",
      "2번 학생은 합격입니다.\n",
      "3번 학생은 합격입니다.\n",
      "4번 학생은 합격입니다.\n",
      "5번 학생은 불합격입니다.\n"
     ]
    }
   ],
   "source": [
    "score_list = [90, 60, 75, 80, 40]\n",
    "number = 1\n",
    "for score in score_list:\n",
    "    if score >= 60:\n",
    "        print('{}번 학생은 합격입니다.'.format(number))\n",
    "    else:\n",
    "        print('{}번 학생은 불합격입니다.'.format(number))\n",
    "    number += 1"
   ]
  },
  {
   "cell_type": "code",
   "execution_count": 3,
   "id": "346c2e68",
   "metadata": {},
   "outputs": [
    {
     "name": "stdout",
     "output_type": "stream",
     "text": [
      "range(0, 10)\n",
      "[0, 1, 2, 3, 4, 5, 6, 7, 8, 9]\n",
      "[0, 1, 2, 3, 4, 5, 6, 7, 8, 9]\n"
     ]
    }
   ],
   "source": [
    "print(range(0, 10, 1))\n",
    "a = list(range(0, 10))\n",
    "print(a)\n",
    "b = list(range(0, 10))\n",
    "print(b)"
   ]
  },
  {
   "cell_type": "code",
   "execution_count": 4,
   "id": "ae50044a",
   "metadata": {},
   "outputs": [
    {
     "name": "stdout",
     "output_type": "stream",
     "text": [
      "0\n",
      "1\n",
      "2\n",
      "3\n",
      "4\n",
      "[0, 1, 2, 3, 4]\n",
      "0\n",
      "1\n",
      "2\n",
      "3\n",
      "4\n"
     ]
    }
   ],
   "source": [
    "for a in range(5):\n",
    "    print(a)\n",
    "print(list(range(5)))\n",
    "for b in [0, 1, 2, 3, 4]:\n",
    "    print(b)"
   ]
  },
  {
   "cell_type": "code",
   "execution_count": 5,
   "id": "772999e3",
   "metadata": {},
   "outputs": [
    {
     "name": "stdout",
     "output_type": "stream",
     "text": [
      "55\n"
     ]
    }
   ],
   "source": [
    "total = 0\n",
    "for i in range(1, 11, 1):\n",
    "    total += i\n",
    "print(total)"
   ]
  },
  {
   "cell_type": "code",
   "execution_count": 6,
   "id": "9b1d3208",
   "metadata": {},
   "outputs": [
    {
     "name": "stdout",
     "output_type": "stream",
     "text": [
      " 1번째 주사위가 데구르르~~~~~ 굴러서 6이 나왔습니다.\n",
      " 2번째 주사위가 데구르르~~~~~ 굴러서 4이 나왔습니다.\n",
      " 3번째 주사위가 데구르르~~~~~ 굴러서 2이 나왔습니다.\n",
      " 4번째 주사위가 데구르르~~~~~ 굴러서 2이 나왔습니다.\n",
      " 5번째 주사위가 데구르르~~~~~ 굴러서 3이 나왔습니다.\n",
      " 6번째 주사위가 데구르르~~~~~ 굴러서 1이 나왔습니다.\n",
      " 7번째 주사위가 데구르르~~~~~ 굴러서 2이 나왔습니다.\n",
      " 8번째 주사위가 데구르르~~~~~ 굴러서 4이 나왔습니다.\n",
      " 9번째 주사위가 데구르르~~~~~ 굴러서 4이 나왔습니다.\n",
      "10번째 주사위가 데구르르~~~~~ 굴러서 6이 나왔습니다.\n",
      "1의 개수는 1개 입니다.\n",
      "2의 개수는 3개 입니다.\n",
      "3의 개수는 1개 입니다.\n",
      "4의 개수는 3개 입니다.\n",
      "5의 개수는 0개 입니다.\n",
      "6의 개수는 2개 입니다.\n"
     ]
    }
   ],
   "source": [
    "import random\n",
    "\n",
    "num1 = 0; num2 = 0; num3 = 0; num4 = 0; num5 = 0; num6 = 0\n",
    "\n",
    "for i in range(0, 10):\n",
    "    r = random.randrange(1, 7)\n",
    "    print('{0:2d}번째 주사위가 데구르르~~~~~ 굴러서 {1}이 나왔습니다.'.format(i + 1, r))\n",
    "    \n",
    "    if r == 1:\n",
    "        num1 += 1\n",
    "    elif r == 2:\n",
    "        num2 += 1\n",
    "    elif r == 3:\n",
    "        num3 += 1\n",
    "    elif r == 4:\n",
    "        num4 += 1\n",
    "    elif r == 5:\n",
    "        num5 += 1\n",
    "    else:\n",
    "        num6 += 1\n",
    "        \n",
    "print('1의 개수는 {}개 입니다.'.format(num1))\n",
    "print('2의 개수는 {}개 입니다.'.format(num2))\n",
    "print('3의 개수는 {}개 입니다.'.format(num3))\n",
    "print('4의 개수는 {}개 입니다.'.format(num4))\n",
    "print('5의 개수는 {}개 입니다.'.format(num5))\n",
    "print('6의 개수는 {}개 입니다.'.format(num6))"
   ]
  },
  {
   "cell_type": "code",
   "execution_count": 7,
   "id": "7bac7787",
   "metadata": {},
   "outputs": [
    {
     "name": "stdout",
     "output_type": "stream",
     "text": [
      "1번째 주사위가 데구르르~~~~~ 굴러서 4이 나왔습니다.\n",
      "2번째 주사위가 데구르르~~~~~ 굴러서 6이 나왔습니다.\n",
      "3번째 주사위가 데구르르~~~~~ 굴러서 6이 나왔습니다.\n",
      "4번째 주사위가 데구르르~~~~~ 굴러서 4이 나왔습니다.\n",
      "5번째 주사위가 데구르르~~~~~ 굴러서 1이 나왔습니다.\n",
      "6번째 주사위가 데구르르~~~~~ 굴러서 1이 나왔습니다.\n",
      "7번째 주사위가 데구르르~~~~~ 굴러서 1이 나왔습니다.\n",
      "8번째 주사위가 데구르르~~~~~ 굴러서 4이 나왔습니다.\n",
      "9번째 주사위가 데구르르~~~~~ 굴러서 6이 나왔습니다.\n",
      "10번째 주사위가 데구르르~~~~~ 굴러서 6이 나왔습니다.\n",
      "1의 개수는 3개입니다.\n",
      "2의 개수는 0개입니다.\n",
      "3의 개수는 0개입니다.\n",
      "4의 개수는 3개입니다.\n",
      "5의 개수는 0개입니다.\n",
      "6의 개수는 4개입니다.\n"
     ]
    }
   ],
   "source": [
    "import random\n",
    "\n",
    "count = [0 for i in range(6)]\n",
    "\n",
    "for i in range(0, 10):\n",
    "    r = random.randrange(1, 7)\n",
    "    print('{0}번째 주사위가 데구르르~~~~~ 굴러서 {1}이 나왔습니다.'.format(i + 1, r))\n",
    "    \n",
    "    if r == 1:\n",
    "        count[0] += 1\n",
    "    elif r == 2:\n",
    "        count[1] += 1\n",
    "    elif r == 3:\n",
    "        count[2] += 1\n",
    "    elif r == 4:\n",
    "        count[3] += 1\n",
    "    elif r == 5:\n",
    "        count[4] += 1\n",
    "    else:\n",
    "        count[5] += 1\n",
    "        \n",
    "print('1의 개수는 {}개입니다.'.format(count[0]))\n",
    "print('2의 개수는 {}개입니다.'.format(count[1]))\n",
    "print('3의 개수는 {}개입니다.'.format(count[2]))\n",
    "print('4의 개수는 {}개입니다.'.format(count[3]))\n",
    "print('5의 개수는 {}개입니다.'.format(count[4]))\n",
    "print('6의 개수는 {}개입니다.'.format(count[5]))"
   ]
  },
  {
   "cell_type": "code",
   "execution_count": 8,
   "id": "5402a5e9",
   "metadata": {},
   "outputs": [
    {
     "name": "stdout",
     "output_type": "stream",
     "text": [
      "1번째 주사위가 굴러서 1눈이 나왔습니다.\n",
      "2번째 주사위가 굴러서 1눈이 나왔습니다.\n",
      "3번째 주사위가 굴러서 1눈이 나왔습니다.\n",
      "4번째 주사위가 굴러서 1눈이 나왔습니다.\n",
      "5번째 주사위가 굴러서 3눈이 나왔습니다.\n",
      "6번째 주사위가 굴러서 3눈이 나왔습니다.\n",
      "7번째 주사위가 굴러서 6눈이 나왔습니다.\n",
      "8번째 주사위가 굴러서 5눈이 나왔습니다.\n",
      "9번째 주사위가 굴러서 3눈이 나왔습니다.\n",
      "10번째 주사위가 굴러서 4눈이 나왔습니다.\n",
      "1눈의 개수는 4개 입니다\n",
      "2눈의 개수는 0개 입니다\n",
      "3눈의 개수는 3개 입니다\n",
      "4눈의 개수는 1개 입니다\n",
      "5눈의 개수는 1개 입니다\n",
      "6눈의 개수는 1개 입니다\n"
     ]
    }
   ],
   "source": [
    "count = [0 for i in range(6)]\n",
    "\n",
    "for i in range(0, 10):\n",
    "    r = random.randrange(1, 7)\n",
    "    print('{0}번째 주사위가 굴러서 {1}눈이 나왔습니다.'.format(i + 1, r))\n",
    "    count[r -1] += 1\n",
    "    \n",
    "for i in range(len(count)):\n",
    "    print('{}눈의 개수는 {}개 입니다'.format(i + 1, count[i]))"
   ]
  },
  {
   "cell_type": "code",
   "execution_count": 9,
   "id": "bd16ff12",
   "metadata": {},
   "outputs": [
    {
     "name": "stdout",
     "output_type": "stream",
     "text": [
      "['Life', 'is', 'too', 'short']\n",
      "================================================================================\n",
      "Life\n",
      "is\n",
      "too\n",
      "short\n",
      "================================================================================\n",
      "Life\n",
      "is\n",
      "too\n",
      "short\n",
      "================================================================================\n",
      "Life\n",
      "is\n",
      "too\n",
      "short\n",
      "================================================================================\n",
      "is\n",
      "too\n",
      "================================================================================\n"
     ]
    }
   ],
   "source": [
    "# 리스트와 for\n",
    "\n",
    "a = ['Life', 'is', 'too', 'short']\n",
    "print(a)\n",
    "print('=' * 80)\n",
    "\n",
    "for i in range(4):\n",
    "    print(a[i])\n",
    "print('=' * 80)\n",
    "\n",
    "for i in range(len(a)):\n",
    "    print(a[i])\n",
    "print('=' * 80)\n",
    "\n",
    "for i in a:\n",
    "    print(i)\n",
    "print('=' * 80)\n",
    "\n",
    "for i in a[1:3]:\n",
    "    print(i)\n",
    "print('=' * 80)"
   ]
  },
  {
   "cell_type": "code",
   "execution_count": 10,
   "id": "104e72e7",
   "metadata": {},
   "outputs": [
    {
     "name": "stdout",
     "output_type": "stream",
     "text": [
      "('Life', 'is', 'too', 'short')\n",
      "================================================================================\n",
      "Life\n",
      "is\n",
      "too\n",
      "short\n",
      "================================================================================\n",
      "Life\n",
      "is\n",
      "too\n",
      "short\n",
      "================================================================================\n",
      "Life\n",
      "is\n",
      "too\n",
      "short\n",
      "================================================================================\n",
      "is\n",
      "too\n",
      "================================================================================\n"
     ]
    }
   ],
   "source": [
    "# 튜플과 for\n",
    "\n",
    "a = 'Life', 'is', 'too', 'short'\n",
    "print(a)\n",
    "print('=' * 80)\n",
    "\n",
    "for i in range(4):\n",
    "    print(a[i])\n",
    "print('=' * 80)\n",
    "\n",
    "for i in range(len(a)):\n",
    "    print(a[i])\n",
    "print('=' * 80)\n",
    "\n",
    "for i in a:\n",
    "    print(i)\n",
    "print('=' * 80)\n",
    "\n",
    "for i in a[1:3]:\n",
    "    print(i)\n",
    "print('=' * 80)"
   ]
  },
  {
   "cell_type": "code",
   "execution_count": 11,
   "id": "4d366974",
   "metadata": {},
   "outputs": [
    {
     "name": "stdout",
     "output_type": "stream",
     "text": [
      "{'is', 'Life', 'too', 'short'}\n",
      "================================================================================\n",
      "is\n",
      "Life\n",
      "too\n",
      "short\n"
     ]
    }
   ],
   "source": [
    "# set과 for - set은 인덱싱과 슬라이싱이 불가능하다.\n",
    "\n",
    "a = {'Life', 'is', 'too', 'short'}\n",
    "print(a)\n",
    "print('=' * 80)\n",
    "\n",
    "for i in a:\n",
    "    print(i)"
   ]
  },
  {
   "cell_type": "code",
   "execution_count": 12,
   "id": "b7c1fe97",
   "metadata": {},
   "outputs": [
    {
     "name": "stdout",
     "output_type": "stream",
     "text": [
      "{'age': 20, '대학교': 'Ajou', 'name': 'Kyungduk'}\n",
      "dict_keys(['age', '대학교', 'name'])\n",
      "dict_values([20, 'Ajou', 'Kyungduk'])\n",
      "dict_items([('age', 20), ('대학교', 'Ajou'), ('name', 'Kyungduk')])\n"
     ]
    }
   ],
   "source": [
    "# 딕셔너리와 for\n",
    "\n",
    "a = {'age' : 20, '대학교' : 'Ajou', 'name' : 'Kyungduk'}\n",
    "print(a)\n",
    "print(a.keys())\n",
    "print(a.values())\n",
    "print(a.items())"
   ]
  },
  {
   "cell_type": "code",
   "execution_count": 13,
   "id": "8471f6ae",
   "metadata": {},
   "outputs": [
    {
     "name": "stdout",
     "output_type": "stream",
     "text": [
      "age\n",
      "대학교\n",
      "name\n",
      "================================================================================\n",
      "age\n",
      "대학교\n",
      "name\n"
     ]
    }
   ],
   "source": [
    "for key in a.keys():\n",
    "    print(key)\n",
    "print('=' * 80)\n",
    "for key in a:\n",
    "    print(key)"
   ]
  },
  {
   "cell_type": "code",
   "execution_count": 14,
   "id": "e1a3923a",
   "metadata": {},
   "outputs": [
    {
     "name": "stdout",
     "output_type": "stream",
     "text": [
      "20\n",
      "Ajou\n",
      "Kyungduk\n",
      "================================================================================\n",
      "20\n",
      "Ajou\n",
      "Kyungduk\n",
      "================================================================================\n",
      "20\n",
      "Ajou\n",
      "Kyungduk\n",
      "================================================================================\n"
     ]
    }
   ],
   "source": [
    "for key in a.values():\n",
    "    print(key)\n",
    "print('=' * 80)\n",
    "for key in a.keys():\n",
    "    print(a[key])\n",
    "print('=' * 80)\n",
    "for key in a.keys():\n",
    "    print(a.get(key))\n",
    "print('=' * 80)"
   ]
  },
  {
   "cell_type": "code",
   "execution_count": 15,
   "id": "5909001f",
   "metadata": {},
   "outputs": [
    {
     "name": "stdout",
     "output_type": "stream",
     "text": [
      "('age', 20)\n",
      "('대학교', 'Ajou')\n",
      "('name', 'Kyungduk')\n",
      "================================================================================\n",
      "age\n",
      "대학교\n",
      "name\n",
      "================================================================================\n",
      "20\n",
      "Ajou\n",
      "Kyungduk\n",
      "================================================================================\n",
      "age\n",
      "대학교\n",
      "name\n",
      "================================================================================\n",
      "20\n",
      "Ajou\n",
      "Kyungduk\n",
      "================================================================================\n",
      "age는 20입니다.\n",
      "대학교는 Ajou입니다.\n",
      "name는 Kyungduk입니다.\n",
      "================================================================================\n"
     ]
    }
   ],
   "source": [
    "for item in a.items():\n",
    "    print(item)\n",
    "print('=' * 80)\n",
    "for item in a.items():\n",
    "    print(item[0])\n",
    "print('=' * 80)\n",
    "for item in a.items():\n",
    "    print(item[1])\n",
    "print('=' * 80)\n",
    "for key, value in a.items():\n",
    "    print(key)\n",
    "print('=' * 80)\n",
    "for key, value in a.items():\n",
    "    print(value)\n",
    "print('=' * 80)\n",
    "for key, item in a.items():\n",
    "    print('{0}는 {1}입니다.'.format(key, item))\n",
    "print('=' * 80)"
   ]
  },
  {
   "cell_type": "markdown",
   "id": "4c71d2f2",
   "metadata": {},
   "source": [
    "for while 연습"
   ]
  },
  {
   "cell_type": "code",
   "execution_count": 16,
   "id": "a77227b7",
   "metadata": {},
   "outputs": [
    {
     "name": "stdout",
     "output_type": "stream",
     "text": [
      "1\n",
      "2\n",
      "3\n",
      "4\n",
      "5\n"
     ]
    }
   ],
   "source": [
    "a = 1\n",
    "b = 5\n",
    "while a <= 4:\n",
    "    print(a)\n",
    "    a += 1\n",
    "print(b)"
   ]
  },
  {
   "cell_type": "code",
   "execution_count": 17,
   "id": "74c8a1e1",
   "metadata": {},
   "outputs": [
    {
     "name": "stdout",
     "output_type": "stream",
     "text": [
      "파이썬 최고\n",
      "파이썬 최고\n",
      "파이썬 최고\n",
      "파이썬 최고\n",
      "파이썬 최고\n",
      "파이썬 최고\n",
      "파이썬 최고\n",
      "파이썬 최고\n",
      "파이썬 최고\n",
      "파이썬 최고\n",
      "파이썬 최고\n",
      "파이썬 최고\n",
      "파이썬 최고\n"
     ]
    }
   ],
   "source": [
    "a = 1\n",
    "while a <= 13:\n",
    "    print('파이썬 최고')\n",
    "    a += 1"
   ]
  },
  {
   "cell_type": "code",
   "execution_count": 18,
   "id": "4e91f165",
   "metadata": {},
   "outputs": [
    {
     "name": "stdout",
     "output_type": "stream",
     "text": [
      "파이썬 최고\n"
     ]
    }
   ],
   "source": [
    "a = 1\n",
    "while a <= 13:\n",
    "    print('파이썬 최고')\n",
    "    a += 1\n",
    "    break"
   ]
  },
  {
   "cell_type": "code",
   "execution_count": 19,
   "id": "f0498d00",
   "metadata": {},
   "outputs": [
    {
     "name": "stdout",
     "output_type": "stream",
     "text": [
      "1\n",
      "2\n",
      "3\n",
      "4\n",
      "5\n",
      "6\n",
      "7\n",
      "8\n",
      "9\n"
     ]
    }
   ],
   "source": [
    "number = 1\n",
    "while True:\n",
    "    print(number)\n",
    "    number += 1\n",
    "    if number >= 10 :\n",
    "        break"
   ]
  },
  {
   "cell_type": "code",
   "execution_count": 23,
   "id": "9617fee1",
   "metadata": {},
   "outputs": [
    {
     "name": "stdout",
     "output_type": "stream",
     "text": [
      "첫 번째 정수를 입력하세요: 20\n",
      "두 번째 정수를 입력하세요: 30\n",
      "두 수의 합: 50\n",
      "첫 번째 정수를 입력하세요: 0\n",
      "두 번째 정수를 입력하세요: 0\n",
      "프로그램이 종료되었습니다.\n"
     ]
    }
   ],
   "source": [
    "while True:\n",
    "    number1 = int(input(\"첫 번째 정수를 입력하세요: \"))\n",
    "    number2 = int(input(\"두 번째 정수를 입력하세요: \"))\n",
    "    if number1 + number2 == 0:\n",
    "        break\n",
    "    else:\n",
    "        print('두 수의 합: {}'.format(number1+number2))\n",
    "print('프로그램이 종료되었습니다.')"
   ]
  },
  {
   "cell_type": "code",
   "execution_count": 35,
   "id": "406a8286",
   "metadata": {},
   "outputs": [
    {
     "name": "stdout",
     "output_type": "stream",
     "text": [
      "1 2 3 4 5 6 7 8 9 0\n",
      "1\n",
      "2\n",
      "3\n",
      "4\n",
      "5\n",
      "6\n",
      "7\n",
      "8\n",
      "9\n",
      "99\n",
      "98\n",
      "97\n",
      "96\n",
      "95\n",
      "94\n",
      "93\n",
      "92\n",
      "91\n",
      "90\n",
      "89\n",
      "88\n",
      "87\n",
      "86\n",
      "85\n",
      "84\n",
      "83\n",
      "82\n",
      "81\n",
      "80\n",
      "79\n",
      "78\n",
      "77\n",
      "23\n",
      "24\n",
      "25\n",
      "26\n",
      "27\n",
      "28\n",
      "29\n",
      "30\n",
      "31\n",
      "32\n",
      "33\n",
      "34\n",
      "35\n",
      "36\n",
      "37\n",
      "38\n",
      "39\n",
      "40\n"
     ]
    }
   ],
   "source": [
    "for a in range(1, 10, 1):\n",
    "    print(a, end = ' ')\n",
    "for a in range(10):\n",
    "    print(a)\n",
    "for a in range(99, 76, -1):\n",
    "    print(a)\n",
    "for a in range(23, 41, 1):\n",
    "    print(a)"
   ]
  },
  {
   "cell_type": "code",
   "execution_count": 39,
   "id": "a4bb14c8",
   "metadata": {
    "scrolled": true
   },
   "outputs": [
    {
     "name": "stdout",
     "output_type": "stream",
     "text": [
      "1\n",
      "2\n",
      "4\n",
      "3\n"
     ]
    }
   ],
   "source": [
    "a = [[1, 2], [4, 3]]\n",
    "for b, c in a:\n",
    "    print(b)\n",
    "    print(c)"
   ]
  },
  {
   "cell_type": "code",
   "execution_count": null,
   "id": "802a4775",
   "metadata": {},
   "outputs": [],
   "source": []
  }
 ],
 "metadata": {
  "kernelspec": {
   "display_name": "Python 3 (ipykernel)",
   "language": "python",
   "name": "python3"
  },
  "language_info": {
   "codemirror_mode": {
    "name": "ipython",
    "version": 3
   },
   "file_extension": ".py",
   "mimetype": "text/x-python",
   "name": "python",
   "nbconvert_exporter": "python",
   "pygments_lexer": "ipython3",
   "version": "3.9.6"
  }
 },
 "nbformat": 4,
 "nbformat_minor": 5
}

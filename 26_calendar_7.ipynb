{
 "cells": [
  {
   "cell_type": "code",
   "execution_count": 22,
   "id": "b7bc4a35",
   "metadata": {},
   "outputs": [],
   "source": [
    "import calendarModule as cm\n",
    "from datetime import datetime as dt"
   ]
  },
  {
   "cell_type": "code",
   "execution_count": 26,
   "id": "4af4e1a2",
   "metadata": {},
   "outputs": [
    {
     "name": "stdout",
     "output_type": "stream",
     "text": [
      "이번달 => 1, 특정달 => 2:  2\n",
      "달력을 출력한 년, 월을 입력하세요: 2021 7\n",
      "============================\n",
      "         2021년 7월\n",
      "============================\n",
      " 일  월  화  수  목  금  토 \n",
      "============================\n",
      "                  1   2   3 \n",
      "  4   5   6   7   8   9  10 \n",
      " 11  12  13  14  15  16  17 \n",
      " 18  19  20  21  22  23  24 \n",
      " 25  26  27  28  29  30  31 \n",
      "============================\n"
     ]
    }
   ],
   "source": [
    "# 1이 입력되면 컴퓨터 시스템의 날짜에 따른 달력을 출력하고 2가 입력되면 년, 월을 입력받아 달력을 출력한다.\n",
    "menu = input('이번달 => 1, 특정달 => 2:  ')\n",
    "if menu == '1':\n",
    "    now = dt.now()\n",
    "    year = now.year\n",
    "    month = now.month\n",
    "else:\n",
    "    year,  month = map(int, input('달력을 출력한 년, 월을 입력하세요: ').split())\n",
    "\n",
    "print('='*28)\n",
    "print('         {0:4d}년{1:2d}월'.format(year, month))\n",
    "print('='*28)\n",
    "print(' 일  월  화  수  목  금  토 ')\n",
    "print('='*28)\n",
    "\n",
    "for i in range(cm.weekDay(year, month, 1)):\n",
    "    print('    ', end='')\n",
    "\n",
    "for i in range(1, cm.lastDay(year, month) + 1):\n",
    "    print(' {0:2d} '.format(i), end='')\n",
    "    if cm.weekDay(year, month, i) == 6 and i != cm.lastDay(year, month):\n",
    "        print()\n",
    "print('\\n' + '='*28)"
   ]
  },
  {
   "cell_type": "code",
   "execution_count": null,
   "id": "789fab98",
   "metadata": {},
   "outputs": [],
   "source": []
  },
  {
   "cell_type": "code",
   "execution_count": null,
   "id": "d3dfa0cd",
   "metadata": {},
   "outputs": [],
   "source": []
  },
  {
   "cell_type": "code",
   "execution_count": null,
   "id": "c51f9944",
   "metadata": {},
   "outputs": [],
   "source": []
  }
 ],
 "metadata": {
  "kernelspec": {
   "display_name": "Python 3 (ipykernel)",
   "language": "python",
   "name": "python3"
  },
  "language_info": {
   "codemirror_mode": {
    "name": "ipython",
    "version": 3
   },
   "file_extension": ".py",
   "mimetype": "text/x-python",
   "name": "python",
   "nbconvert_exporter": "python",
   "pygments_lexer": "ipython3",
   "version": "3.9.6"
  }
 },
 "nbformat": 4,
 "nbformat_minor": 5
}

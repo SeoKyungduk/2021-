{
 "cells": [
  {
   "cell_type": "code",
   "execution_count": 5,
   "id": "0bbcb45b",
   "metadata": {},
   "outputs": [
    {
     "name": "stdout",
     "output_type": "stream",
     "text": [
      "Ajou University\n",
      "Ajou\n",
      "University\n"
     ]
    }
   ],
   "source": [
    "a = \"Ajou University\"\n",
    "print(a)\n",
    "a = \"Ajou\\nUniversity\"\n",
    "print(a)"
   ]
  },
  {
   "cell_type": "code",
   "execution_count": 6,
   "id": "cb062e2c",
   "metadata": {},
   "outputs": [
    {
     "name": "stdout",
     "output_type": "stream",
     "text": [
      "아주대학교\n",
      "기계공학과에\n",
      "재학중인\n",
      "서경덕\n"
     ]
    }
   ],
   "source": [
    "a = \"\"\"아주대학교\n",
    "기계공학과에\n",
    "재학중인\n",
    "서경덕\"\"\"\n",
    "print(a)"
   ]
  },
  {
   "cell_type": "code",
   "execution_count": 11,
   "id": "df0523b3",
   "metadata": {},
   "outputs": [
    {
     "name": "stdout",
     "output_type": "stream",
     "text": [
      "A\n",
      "<class 'str'>\n",
      "u\n",
      "r\n",
      "a\n"
     ]
    }
   ],
   "source": [
    "a = 'Ajou University is best university in korea'\n",
    "print(a[0])\n",
    "print(type(a))\n",
    "print(a[3])\n",
    "print(a[10])\n",
    "print(a[-1])"
   ]
  },
  {
   "cell_type": "code",
   "execution_count": 20,
   "id": "47dfcec5",
   "metadata": {},
   "outputs": [
    {
     "name": "stdout",
     "output_type": "stream",
     "text": [
      "I\n",
      "<class 'str'>\n",
      "I have a dream\n",
      "e a dream\n",
      "I have a dream\n",
      "I have a dream\n",
      "Ihv  ra\n",
      "maerd a evah I\n"
     ]
    }
   ],
   "source": [
    "a = 'I have a dream'\n",
    "print(a[0])\n",
    "print(type(a))\n",
    "print(a[0:14])\n",
    "print(a[5:14])\n",
    "print(a[:14])\n",
    "print(a[:])\n",
    "print(a[::2])\n",
    "print(a[::-1])"
   ]
  },
  {
   "cell_type": "code",
   "execution_count": null,
   "id": "c0f9ccfd",
   "metadata": {},
   "outputs": [],
   "source": []
  },
  {
   "cell_type": "code",
   "execution_count": null,
   "id": "9cc44128",
   "metadata": {},
   "outputs": [],
   "source": []
  }
 ],
 "metadata": {
  "kernelspec": {
   "display_name": "Python 3 (ipykernel)",
   "language": "python",
   "name": "python3"
  },
  "language_info": {
   "codemirror_mode": {
    "name": "ipython",
    "version": 3
   },
   "file_extension": ".py",
   "mimetype": "text/x-python",
   "name": "python",
   "nbconvert_exporter": "python",
   "pygments_lexer": "ipython3",
   "version": "3.9.6"
  }
 },
 "nbformat": 4,
 "nbformat_minor": 5
}

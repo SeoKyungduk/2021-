{
 "cells": [
  {
   "cell_type": "code",
   "execution_count": 4,
   "id": "e9fa4463",
   "metadata": {},
   "outputs": [
    {
     "name": "stdout",
     "output_type": "stream",
     "text": [
      "홍길동\n",
      "<class 'str'>\n",
      "100\n",
      "<class 'int'>\n",
      "3.141592\n",
      "<class 'float'>\n",
      "True\n",
      "<class 'bool'>\n"
     ]
    }
   ],
   "source": [
    "a = '홍길동'\n",
    "print(a)\n",
    "print(type(a))\n",
    "b = 100\n",
    "print(b)\n",
    "print(type(b))\n",
    "c = 3.141592\n",
    "print(c)\n",
    "print(type(c))\n",
    "d = True\n",
    "print(d)\n",
    "print(type(d))"
   ]
  },
  {
   "cell_type": "code",
   "execution_count": 5,
   "id": "1db8f56f",
   "metadata": {},
   "outputs": [
    {
     "name": "stdout",
     "output_type": "stream",
     "text": [
      "100\n"
     ]
    }
   ],
   "source": [
    "a = 100\n",
    "print(a)"
   ]
  },
  {
   "cell_type": "code",
   "execution_count": 6,
   "id": "2566cb08",
   "metadata": {},
   "outputs": [
    {
     "ename": "NameError",
     "evalue": "name 'a' is not defined",
     "output_type": "error",
     "traceback": [
      "\u001b[1;31m---------------------------------------------------------------------------\u001b[0m",
      "\u001b[1;31mNameError\u001b[0m                                 Traceback (most recent call last)",
      "\u001b[1;32m~\\AppData\\Local\\Temp/ipykernel_9060/1497285116.py\u001b[0m in \u001b[0;36m<module>\u001b[1;34m\u001b[0m\n\u001b[0;32m      1\u001b[0m \u001b[1;32mdel\u001b[0m \u001b[0ma\u001b[0m\u001b[1;33m\u001b[0m\u001b[1;33m\u001b[0m\u001b[0m\n\u001b[1;32m----> 2\u001b[1;33m \u001b[0mprint\u001b[0m\u001b[1;33m(\u001b[0m\u001b[0ma\u001b[0m\u001b[1;33m)\u001b[0m\u001b[1;33m\u001b[0m\u001b[1;33m\u001b[0m\u001b[0m\n\u001b[0m",
      "\u001b[1;31mNameError\u001b[0m: name 'a' is not defined"
     ]
    }
   ],
   "source": [
    "del a\n",
    "print(a)"
   ]
  },
  {
   "cell_type": "code",
   "execution_count": 12,
   "id": "47970e9b",
   "metadata": {},
   "outputs": [
    {
     "name": "stdout",
     "output_type": "stream",
     "text": [
      "이름:서경덕\n",
      "<class 'str'>\n",
      "서경덕님 안녕하세요\n"
     ]
    }
   ],
   "source": [
    "name = input('이름:')\n",
    "print(type(name))\n",
    "print('{}님 안녕하세요'.format(name))"
   ]
  },
  {
   "cell_type": "code",
   "execution_count": 21,
   "id": "46243209",
   "metadata": {},
   "outputs": [
    {
     "name": "stdout",
     "output_type": "stream",
     "text": [
      "나이를 입력하세요:20\n",
      "<class 'int'>\n",
      "홍길동님의 나이는 20입니다.\n",
      "서경덕님은 내년에 24살 입니다.\n"
     ]
    }
   ],
   "source": [
    "age = int(input('나이를 입력하세요:'))\n",
    "print(type(age))\n",
    "print('홍길동님의 나이는 {}입니다.'.format(age))\n",
    "print('{}님은 내년에 {}살 입니다.'.format(name, age + 4))"
   ]
  },
  {
   "cell_type": "code",
   "execution_count": 23,
   "id": "21ba1b22",
   "metadata": {},
   "outputs": [
    {
     "name": "stdout",
     "output_type": "stream",
     "text": [
      "나이를 입력하세요:20\n",
      "<class 'int'>\n",
      "서경덕님의 나이는 20입니다.\n",
      "서경덕님의 나이는 내년에 21입니다.\n"
     ]
    }
   ],
   "source": [
    "age = int(input('나이를 입력하세요:'))\n",
    "print(type(age))\n",
    "print('{}님의 나이는 {}입니다.'.format(name, age))\n",
    "print('{}님의 나이는 내년에 {}입니다.'.format(name, int(age)+1))"
   ]
  },
  {
   "cell_type": "code",
   "execution_count": 25,
   "id": "89d6137a",
   "metadata": {},
   "outputs": [
    {
     "name": "stdout",
     "output_type": "stream",
     "text": [
      "['Ajou', 'university', 'is', 'best', 'university', 'in', 'korea']\n",
      "Ajou university is best university in korea\n"
     ]
    }
   ],
   "source": [
    "a = 'Ajou university is best university in korea'\n",
    "print(a.split())\n",
    "print(a)"
   ]
  },
  {
   "cell_type": "code",
   "execution_count": 29,
   "id": "48806401",
   "metadata": {},
   "outputs": [
    {
     "name": "stdout",
     "output_type": "stream",
     "text": [
      "이름과 나이를 입력하세요:서경덕 23\n",
      "서경덕님의 23살 입니다.\n",
      "서경덕님의 나이는 내년에 24입니다.\n"
     ]
    }
   ],
   "source": [
    "name, age = input('이름과 나이를 입력하세요:').split()\n",
    "print('{}님의 {}살 입니다.'.format(name, age))\n",
    "print('{}님의 나이는 내년에 {}입니다.'.format(name, int(age)+1))"
   ]
  },
  {
   "cell_type": "code",
   "execution_count": 35,
   "id": "bd87fb8b",
   "metadata": {},
   "outputs": [
    {
     "name": "stdout",
     "output_type": "stream",
     "text": [
      "세 과목 점수를 입력하세요: 100 100 100\n",
      "총 점:300\n"
     ]
    }
   ],
   "source": [
    "python, java, android = input('세 과목 점수를 입력하세요: ').split()\n",
    "print('총 점:{}'.format(int(python)+int(java)+int(android)))"
   ]
  },
  {
   "cell_type": "code",
   "execution_count": 36,
   "id": "048fbb6b",
   "metadata": {},
   "outputs": [
    {
     "name": "stdout",
     "output_type": "stream",
     "text": [
      "세 과목 점수를 입력하세요: 50 50 50\n",
      "총 점: 150\n"
     ]
    }
   ],
   "source": [
    "python, java, android = map(int, input('세 과목 점수를 입력하세요: ').split())\n",
    "print('총 점: {}'.format(int(python) + int(java) + int(android)))"
   ]
  },
  {
   "cell_type": "code",
   "execution_count": null,
   "id": "f23d9464",
   "metadata": {},
   "outputs": [],
   "source": []
  }
 ],
 "metadata": {
  "kernelspec": {
   "display_name": "Python 3 (ipykernel)",
   "language": "python",
   "name": "python3"
  },
  "language_info": {
   "codemirror_mode": {
    "name": "ipython",
    "version": 3
   },
   "file_extension": ".py",
   "mimetype": "text/x-python",
   "name": "python",
   "nbconvert_exporter": "python",
   "pygments_lexer": "ipython3",
   "version": "3.9.6"
  }
 },
 "nbformat": 4,
 "nbformat_minor": 5
}

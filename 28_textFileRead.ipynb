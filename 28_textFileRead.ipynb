{
 "cells": [
  {
   "cell_type": "code",
   "execution_count": 7,
   "id": "f018e262",
   "metadata": {},
   "outputs": [
    {
     "name": "stdout",
     "output_type": "stream",
     "text": [
      "data.txt 파일에 읽기 완료\n"
     ]
    }
   ],
   "source": [
    "file = open('.\\data\\data.txt', 'r')\n",
    "# readline() 메소드로 텍스트 파일의 내용을 1줄씩 읽어들인다.\n",
    "# 텍스트 파일에 저장된 데이터가 몇 줄인지 알 수 없으므로 무한루프를 돌려서 읽는다.\n",
    "lines = []\n",
    "while True:\n",
    "    line = file.readline()\n",
    "    # 텍스트 파일에서 읽어들인 데이터가 없을 경우 무한루프를 탈출시킨다.\n",
    "    if not line: # readline() 메소드로 읽어들인 데이터가 없는가? 파일의 끝인가?\n",
    "        break\n",
    "    # print(line.strip())\n",
    "    # 읽어들인 데이터가 빈 줄(읽어들인 데이터가 모두 공백)이면 리스트에 저장하지 않는다.\n",
    "    if len(line.strip()) != 0:\n",
    "        lines.append(line.strip())\n",
    "file.close() # 안적어도 상관없음.\n",
    "print('data.txt 파일에 읽기 완료')"
   ]
  },
  {
   "cell_type": "code",
   "execution_count": 8,
   "id": "3ada90bd",
   "metadata": {},
   "outputs": [
    {
     "name": "stdout",
     "output_type": "stream",
     "text": [
      "['꺄아아아아아아아', '꺄아아아아아아아', '꺄아아아아아아아', '꺄아아아아아아아', '꺄아아아아아아아', '꺄아아아아아아아', '꺄아아아아아아아', '꺄아아아아아아아']\n"
     ]
    }
   ],
   "source": [
    "print(lines)"
   ]
  },
  {
   "cell_type": "code",
   "execution_count": 9,
   "id": "f05848e2",
   "metadata": {},
   "outputs": [
    {
     "name": "stdout",
     "output_type": "stream",
     "text": [
      "<class 'list'>\n",
      "data.txt 파일에 읽기 완료\n"
     ]
    }
   ],
   "source": [
    "file = open('.\\data\\data.txt', 'r')\n",
    "# readlines() 메소드는 텍스트 파일의 전체 데이터를 한꺼번에 읽어서 리스트로 얻어온다.\n",
    "lines = file.readlines()\n",
    "print(type(lines)) # <class 'list'>\n",
    "file.close()\n",
    "print('data.txt 파일에 읽기 완료')"
   ]
  },
  {
   "cell_type": "code",
   "execution_count": 10,
   "id": "ce1e2516",
   "metadata": {},
   "outputs": [
    {
     "name": "stdout",
     "output_type": "stream",
     "text": [
      "['꺄아아아아아아아\\n', '꺄아아아아아아아\\n', '꺄아아아아아아아\\n', '꺄아아아아아아아\\n', '꺄아아아아아아아\\n', '꺄아아아아아아아\\n', '꺄아아아아아아아\\n', '꺄아아아아아아아\\n']\n"
     ]
    }
   ],
   "source": [
    "print(lines)"
   ]
  },
  {
   "cell_type": "code",
   "execution_count": null,
   "id": "8759ec99",
   "metadata": {},
   "outputs": [],
   "source": []
  },
  {
   "cell_type": "code",
   "execution_count": null,
   "id": "2424d3e2",
   "metadata": {},
   "outputs": [],
   "source": []
  },
  {
   "cell_type": "code",
   "execution_count": null,
   "id": "664a9c03",
   "metadata": {},
   "outputs": [],
   "source": []
  },
  {
   "cell_type": "code",
   "execution_count": null,
   "id": "e533f30f",
   "metadata": {},
   "outputs": [],
   "source": []
  },
  {
   "cell_type": "code",
   "execution_count": null,
   "id": "46146781",
   "metadata": {},
   "outputs": [],
   "source": []
  }
 ],
 "metadata": {
  "kernelspec": {
   "display_name": "Python 3 (ipykernel)",
   "language": "python",
   "name": "python3"
  },
  "language_info": {
   "codemirror_mode": {
    "name": "ipython",
    "version": 3
   },
   "file_extension": ".py",
   "mimetype": "text/x-python",
   "name": "python",
   "nbconvert_exporter": "python",
   "pygments_lexer": "ipython3",
   "version": "3.9.6"
  }
 },
 "nbformat": 4,
 "nbformat_minor": 5
}

{
 "cells": [
  {
   "cell_type": "code",
   "execution_count": 1,
   "id": "abfdd03a",
   "metadata": {},
   "outputs": [],
   "source": [
    "import calendarModule\n",
    "# 위와 같이 import 할 경우 import된 모듈의 함수를 실행하려면 '모듈이름.함수이름()'' 형태로 실행해야 한다."
   ]
  },
  {
   "cell_type": "code",
   "execution_count": 6,
   "id": "4af4e1a2",
   "metadata": {},
   "outputs": [
    {
     "name": "stdout",
     "output_type": "stream",
     "text": [
      "달력을 출력한 년, 월을 입력하세요: 2021 8\n",
      "============================\n",
      "         2021년 8월\n",
      "============================\n",
      " 일  월  화  수  목  금  토 \n",
      "============================\n",
      "  1   2   3   4   5   6   7 \n",
      "  8   9  10  11  12  13  14 \n",
      " 15  16  17  18  19  20  21 \n",
      " 22  23  24  25  26  27  28 \n",
      " 29  30  31 \n",
      "============================\n"
     ]
    }
   ],
   "source": [
    "year,  month = map(int, input('달력을 출력한 년, 월을 입력하세요: ').split())\n",
    "\n",
    "print('='*28)\n",
    "print('         {0:4d}년{1:2d}월'.format(year, month))\n",
    "print('='*28)\n",
    "print(' 일  월  화  수  목  금  토 ')\n",
    "print('='*28)\n",
    "\n",
    "for i in range(calendarModule.weekDay(year, month, 1)):\n",
    "    print('    ', end='')\n",
    "\n",
    "for i in range(1, calendarModule.lastDay(year, month) + 1):\n",
    "    print(' {0:2d} '.format(i), end='')\n",
    "    if calendarModule.weekDay(year, month, i) == 6 and i != calendarModule.lastDay(year, month):\n",
    "        print()\n",
    "print('\\n' + '='*28)"
   ]
  },
  {
   "cell_type": "code",
   "execution_count": null,
   "id": "6e07873e",
   "metadata": {},
   "outputs": [],
   "source": []
  },
  {
   "cell_type": "code",
   "execution_count": null,
   "id": "ea0e058b",
   "metadata": {},
   "outputs": [],
   "source": []
  }
 ],
 "metadata": {
  "kernelspec": {
   "display_name": "Python 3 (ipykernel)",
   "language": "python",
   "name": "python3"
  },
  "language_info": {
   "codemirror_mode": {
    "name": "ipython",
    "version": 3
   },
   "file_extension": ".py",
   "mimetype": "text/x-python",
   "name": "python",
   "nbconvert_exporter": "python",
   "pygments_lexer": "ipython3",
   "version": "3.9.6"
  }
 },
 "nbformat": 4,
 "nbformat_minor": 5
}

{
 "cells": [
  {
   "cell_type": "code",
   "execution_count": 1,
   "id": "4ddf6cdd",
   "metadata": {},
   "outputs": [
    {
     "name": "stdout",
     "output_type": "stream",
     "text": [
      "1부터 10까지 합은: 55\n"
     ]
    }
   ],
   "source": [
    "total = 0\n",
    "for i in range(1, 11, 1):\n",
    "    total += i\n",
    "print('1부터 10까지 합은: {}'.format(total))"
   ]
  },
  {
   "cell_type": "code",
   "execution_count": 2,
   "id": "6b35fe1c",
   "metadata": {},
   "outputs": [
    {
     "name": "stdout",
     "output_type": "stream",
     "text": [
      "1부터 10까지의 합은: 55\n"
     ]
    }
   ],
   "source": [
    "i = 0\n",
    "total = 0\n",
    "while i < 10:\n",
    "    i += 1\n",
    "    total += i\n",
    "print('1부터 10까지의 합은: {}'.format(total))"
   ]
  },
  {
   "cell_type": "code",
   "execution_count": 3,
   "id": "d9bb138a",
   "metadata": {},
   "outputs": [
    {
     "name": "stdout",
     "output_type": "stream",
     "text": [
      "1\n",
      "2\n",
      "3\n",
      "4\n",
      "5\n",
      "========================================\n",
      "1\n",
      "2\n",
      "3\n",
      "4\n",
      "5\n",
      "7\n",
      "8\n",
      "9\n",
      "10\n"
     ]
    }
   ],
   "source": [
    "for i in range(1, 11):\n",
    "    if i == 6:\n",
    "        break\n",
    "    print(i)\n",
    "print('=' * 40)\n",
    "for i in range(1, 11):\n",
    "    if i == 6:\n",
    "        continue\n",
    "    print(i)"
   ]
  },
  {
   "cell_type": "code",
   "execution_count": 6,
   "id": "920408cb",
   "metadata": {},
   "outputs": [
    {
     "name": "stdout",
     "output_type": "stream",
     "text": [
      "========================================\n",
      "1.입력, 2.보기, 3.수정, 4.삭제, 5.종료\n",
      "========================================\n",
      "번호를 입력해주세요: 2\n",
      "보기 실행\n",
      "========================================\n",
      "1.입력, 2.보기, 3.수정, 4.삭제, 5.종료\n",
      "========================================\n",
      "번호를 입력해주세요: 5\n",
      "종료 합니다. 수고하셨습니다.\n"
     ]
    }
   ],
   "source": [
    "menu = 0\n",
    "while menu != 5:\n",
    "    while True:\n",
    "        print('='*40)\n",
    "        print('1.입력, 2.보기, 3.수정, 4.삭제, 5.종료')\n",
    "        print('='*40)\n",
    "        menu = int(input('번호를 입력해주세요: '))\n",
    "        if 1<= menu <=5:\n",
    "            break\n",
    "        print('1부터 5까지 번호를 입력해주세요.')\n",
    "        \n",
    "    if menu == 1:\n",
    "        print('입력 실행')\n",
    "    elif menu == 2:\n",
    "        print('보기 실행')\n",
    "    elif menu == 3:\n",
    "        print('수정 실행')\n",
    "    elif menu == 4:\n",
    "        print('삭제 실행')\n",
    "    elif menu == 5:\n",
    "        print('종료 합니다. 수고하셨습니다.')"
   ]
  },
  {
   "cell_type": "markdown",
   "id": "5b057d00",
   "metadata": {},
   "source": [
    "로또 번호 생성기"
   ]
  },
  {
   "cell_type": "code",
   "execution_count": 7,
   "id": "a94fd45c",
   "metadata": {},
   "outputs": [],
   "source": [
    "import random"
   ]
  },
  {
   "cell_type": "code",
   "execution_count": 18,
   "id": "48b1e9a0",
   "metadata": {},
   "outputs": [
    {
     "name": "stdout",
     "output_type": "stream",
     "text": [
      "28{28}\n",
      " 3{3, 28}\n",
      "28{3, 28}\n",
      " 6{3, 28, 6}\n",
      " 1{1, 3, 28, 6}\n",
      "40{1, 3, 6, 40, 28}\n",
      "24{1, 3, 6, 40, 24, 28}\n",
      "1등 번호는: {1, 3, 6, 40, 24, 28}\n",
      "보너스 번호는: 5\n",
      "이번회차 번호는: {1, 3, 6, 40, 24, 28} + 5\n"
     ]
    }
   ],
   "source": [
    "lotto = set()\n",
    "while True:\n",
    "    lottoNumber = random.randrange(1, 46)\n",
    "    print('{0:2d}'.format(lottoNumber), end='')\n",
    "    lotto.add(lottoNumber)\n",
    "    print(lotto)\n",
    "    if len(lotto) == 6:\n",
    "        break\n",
    "print('1등 번호는: {}'.format(lotto))\n",
    "\n",
    "\n",
    "while True:\n",
    "    bonusNumber = random.randrange(1, 46)\n",
    "    if bonusNumber not in lotto:\n",
    "        break\n",
    "print('보너스 번호는: {}'.format(bonusNumber))\n",
    "print('이번회차 번호는: {} + {}'.format(lotto, bonusNumber))"
   ]
  },
  {
   "cell_type": "code",
   "execution_count": null,
   "id": "7f9b77f7",
   "metadata": {},
   "outputs": [],
   "source": []
  },
  {
   "cell_type": "code",
   "execution_count": null,
   "id": "a17780ac",
   "metadata": {},
   "outputs": [],
   "source": []
  },
  {
   "cell_type": "code",
   "execution_count": null,
   "id": "0a65517a",
   "metadata": {},
   "outputs": [],
   "source": []
  },
  {
   "cell_type": "code",
   "execution_count": null,
   "id": "1789d815",
   "metadata": {},
   "outputs": [],
   "source": []
  },
  {
   "cell_type": "code",
   "execution_count": null,
   "id": "b75b3ce3",
   "metadata": {},
   "outputs": [],
   "source": []
  },
  {
   "cell_type": "code",
   "execution_count": null,
   "id": "73d1b625",
   "metadata": {},
   "outputs": [],
   "source": []
  }
 ],
 "metadata": {
  "kernelspec": {
   "display_name": "Python 3 (ipykernel)",
   "language": "python",
   "name": "python3"
  },
  "language_info": {
   "codemirror_mode": {
    "name": "ipython",
    "version": 3
   },
   "file_extension": ".py",
   "mimetype": "text/x-python",
   "name": "python",
   "nbconvert_exporter": "python",
   "pygments_lexer": "ipython3",
   "version": "3.9.6"
  }
 },
 "nbformat": 4,
 "nbformat_minor": 5
}

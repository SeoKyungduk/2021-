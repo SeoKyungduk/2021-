{
 "cells": [
  {
   "cell_type": "markdown",
   "id": "8a7d6641",
   "metadata": {},
   "source": [
    "if 명령의 형식  \n",
    "if 조건식:  \n",
    "&nbsp;&nbsp;&nbsp;&nbsp;조건식이 참일 경우 실행할 문자  \n",
    "&nbsp;&nbsp;&nbsp;&nbsp;...  \n",
    "else:  \n",
    "&nbsp;&nbsp;&nbsp;&nbsp;조건식이 거짓일 경우 실행할 문장  \n",
    "&nbsp;&nbsp;&nbsp;&nbsp;...  \n",
    "***  \n",
    "조건을 만족하지 않을 때 아무런 일도 하지 않는다면 else 이하를 생략할 수 있다.  "
   ]
  },
  {
   "cell_type": "code",
   "execution_count": 1,
   "id": "8662fb6b",
   "metadata": {},
   "outputs": [
    {
     "data": {
      "image/png": "[encoded data removed]",
      "text/plain": [
       "<IPython.core.display.Image object>"
      ]
     },
     "execution_count": 1,
     "metadata": {
      "image/png": {
       "width": "900"
      }
     },
     "output_type": "execute_result"
    }
   ],
   "source": [
    "# 관계(비교) 연산자 => 연산 결과는 무조건 참(True) 또는 거짓(False)이다.\n",
    "# >   : 크다, 초과\n",
    "# >=  : 크거나 같다, 이상\n",
    "# <   : 작다, 미만\n",
    "# <=  : 작거나 같다, 이하\n",
    "# ==  : 같다\n",
    "# !=  : 같지 않다\n",
    "\n",
    "# 논리 연산자 => 연산 결과는 무조건 참(True) 또는 거짓(False)이다.\n",
    "# and  : 논리곱, 두 조건이 모두 참일 경우에만 참, ~이고, ~이면서, ~중에서\n",
    "# or   : 논리합, 두 조건 중에서 하나이상 참일 경우에 참, ~또는, ~이거나\n",
    "# not  : 논리부정\n",
    "\n",
    "from IPython.display import Image\n",
    "Image(\"./andornot.png\", width='900')"
   ]
  },
  {
   "cell_type": "code",
   "execution_count": 2,
   "id": "68f15fc8",
   "metadata": {},
   "outputs": [],
   "source": [
    "# 산술 연산자(() => ** => *, /, //, % => +, -) => 관계 연산자 => 논리 연산(not => and => or) => 삼항 연산자 => 대입 연산자"
   ]
  },
  {
   "cell_type": "code",
   "execution_count": 3,
   "id": "7f3dadf4",
   "metadata": {},
   "outputs": [
    {
     "name": "stdout",
     "output_type": "stream",
     "text": [
      "나이를 입력하세요: 23\n",
      "<class 'int'>\n",
      "성인입니다. 어서오에요.\n"
     ]
    }
   ],
   "source": [
    "age = int(input('나이를 입력하세요: '))\n",
    "print(type(age))\n",
    "\n",
    "if age >= 19:\n",
    "    print('성인입니다. 어서오에요.')\n",
    "else:\n",
    "    print('청소년 여러분 이제는 집으로 돌아가야 할 시간입니다.')"
   ]
  },
  {
   "cell_type": "code",
   "execution_count": 4,
   "id": "6b14d368",
   "metadata": {},
   "outputs": [
    {
     "name": "stdout",
     "output_type": "stream",
     "text": [
      "주민등록번호 13자리를 \"-\"없이 입력하세요: 9904182211334\n",
      "여자\n",
      "여자\n",
      "여자\n",
      "여자\n",
      "여자\n"
     ]
    }
   ],
   "source": [
    "# 성별\n",
    "jumin = input('주민등록번호 13자리를 \"-\"없이 입력하세요: ')\n",
    "# print(jumin[6])\n",
    "\n",
    "if jumin[6] == '1' or jumin[6] == '3' or jumin[6] == '5' :\n",
    "    print('남자')\n",
    "else:\n",
    "    print('여자')\n",
    "    \n",
    "if jumin[6] in ['1', '3', '5']: # in과 반대 작업을 실행하는 not in도 있다.\n",
    "    print('남자')\n",
    "else:\n",
    "    print('여자')\n",
    "    \n",
    "if int(jumin[6]) == 1 or int(jumin[6]) == 3 or int(jumin[6]) == 5 :\n",
    "    print('남자')\n",
    "else:\n",
    "    print('여자')\n",
    "    \n",
    "if int(jumin[6]) in (1, 3, 5):\n",
    "    print('남자')\n",
    "else:\n",
    "    print('여자')\n",
    "    \n",
    "if int(jumin[6]) % 2 == 1:\n",
    "    print('남자')\n",
    "else:\n",
    "    print('여자')"
   ]
  },
  {
   "cell_type": "code",
   "execution_count": 5,
   "id": "6181ffa3",
   "metadata": {},
   "outputs": [
    {
     "name": "stdout",
     "output_type": "stream",
     "text": [
      "주민등록번호 13자리를 \"-\"없이 입력하세요: 9904182233112\n",
      "<class 'int'>\n",
      "당신의 출생년도는 1999년이고 만22살 입니다.\n",
      "당신의 출생년도는 1999년이고 만22살 입니다.\n"
     ]
    }
   ],
   "source": [
    "# 나이\n",
    "jumin = input('주민등록번호 13자리를 \"-\"없이 입력하세요: ')\n",
    "# print(jumin[0:2])\n",
    "# print(jumin[:2])\n",
    "\n",
    "year = int(jumin[0:2])\n",
    "print(type(year))\n",
    "\n",
    "'''\n",
    "if jumin[6] <= '2':\n",
    "    year = year + 1900\n",
    "else:\n",
    "    # year = year + 2000\n",
    "    # '='와 같이 사용하는 연산자를 대입 연산자라 부른다. => 연산 우선순위가 가장 늦다. => +=, -=, *=, /=, //=, %=\n",
    "    year += 2000\n",
    "'''\n",
    "\n",
    "# if 명령의 조건 비교 결과 참 또는 거짓일 때 실행할 문장이 각각 1문장일 경우 삼항 연산자를 사용해서 처리할 수 있다.\n",
    "# 삼항 연산자의 형식 => 조건이 참일 때 실행할 문장 if 조건식 else 조건이 거짓일 경우 실행할 문장\n",
    "year += 1900 if jumin[6] <= '2' else 2000\n",
    "\n",
    "print('당신의 출생년도는 {}년이고 만{}살 입니다.'.format(year, 2021 - year))\n",
    "\n",
    "from datetime import datetime as dt\n",
    "today = dt.now()\n",
    "print('당신의 출생년도는 {}년이고 만{}살 입니다.'.format(year, today.year - year))"
   ]
  },
  {
   "cell_type": "code",
   "execution_count": 6,
   "id": "45eb5a23",
   "metadata": {},
   "outputs": [
    {
     "name": "stdout",
     "output_type": "stream",
     "text": [
      "3과목 점수를 입력하세요: 50 70 50\n",
      "평균:  56.67점 등급: F\n"
     ]
    }
   ],
   "source": [
    "# 3과목 점수를 한 번에 입력받아 평균을 계산한 후 A, B, C, D, F를 출력한다.\n",
    "\n",
    "python, java, android = map(int, input('3과목 점수를 입력하세요: ').split())\n",
    "total = python + java + android\n",
    "average = total / 3\n",
    "# print('총점: {0}, 평균: {1:6.2f}'.format(total, average))\n",
    "\n",
    "if average >= 90:\n",
    "    print('평균: {0:6.2f}점 등급: A'.format(average))\n",
    "if average < 90 and average >= 80:\n",
    "    print('평균: {0:6.2f}점 등급: B'.format(average))\n",
    "if average < 80 and average >= 70:\n",
    "    print('평균: {0:6.2f}점 등급: C'.format(average))\n",
    "if average < 70 and average >= 60:\n",
    "    print('평균: {0:6.2f}점 등급: D'.format(average))\n",
    "if average < 60:\n",
    "    print('평균: {0:6.2f}점 등급: F'.format(average))"
   ]
  },
  {
   "cell_type": "code",
   "execution_count": 7,
   "id": "9670e2d2",
   "metadata": {},
   "outputs": [
    {
     "name": "stdout",
     "output_type": "stream",
     "text": [
      "3과목 점수를 입력하세요: 50 70 50\n",
      "평균:  56.67점 등급: F\n"
     ]
    }
   ],
   "source": [
    "python, java, android = map(int, input('3과목 점수를 입력하세요: ').split())\n",
    "total = python + java + android\n",
    "average = total / 3\n",
    "\n",
    "if average >= 90:\n",
    "    print('평균: {0:6.2f}점 등급: A'.format(average))\n",
    "elif average < 90 and average >= 80:\n",
    "    print('평균: {0:6.2f}점 등급: B'.format(average))\n",
    "elif average < 80 and average >= 70:\n",
    "    print('평균: {0:6.2f}점 등급: C'.format(average))\n",
    "elif average < 70 and average >= 60:\n",
    "    print('평균: {0:6.2f}점 등급: D'.format(average))\n",
    "else:\n",
    "    print('평균: {0:6.2f}점 등급: F'.format(average))"
   ]
  },
  {
   "cell_type": "code",
   "execution_count": 8,
   "id": "c8aeef30",
   "metadata": {},
   "outputs": [
    {
     "name": "stdout",
     "output_type": "stream",
     "text": [
      "3과목 점수를 입력하세요: 50 70 50\n",
      "평균:  56.67점 등급: F\n"
     ]
    }
   ],
   "source": [
    "python, java, android = map(int, input('3과목 점수를 입력하세요: ').split())\n",
    "total = python + java + android\n",
    "average = total / 3\n",
    "\n",
    "if average >= 90:\n",
    "    print('평균: {0:6.2f}점 등급: A'.format(average))\n",
    "elif average >= 80:\n",
    "    print('평균: {0:6.2f}점 등급: B'.format(average))\n",
    "elif average >= 70:\n",
    "    print('평균: {0:6.2f}점 등급: C'.format(average))\n",
    "elif average >= 60:\n",
    "    print('평균: {0:6.2f}점 등급: D'.format(average))\n",
    "else:\n",
    "    print('평균: {0:6.2f}점 등급: F'.format(average))"
   ]
  },
  {
   "cell_type": "code",
   "execution_count": 9,
   "id": "d944192e",
   "metadata": {},
   "outputs": [
    {
     "name": "stdout",
     "output_type": "stream",
     "text": [
      "윤년, 평년을 판별할 년도를 입력하세요: 2021\n",
      "2021년은 평년입니다.\n",
      "2021년은 평년입니다.\n"
     ]
    }
   ],
   "source": [
    "# 윤년, 평년 판별식\n",
    "# 년도가 4로 나눠 떨어지고(and) 100으로 나눠 떨어지지 않거나(or) 400으로 나눠 떨어지면 윤년, 그렇치 않으면 평년\n",
    "year = int(input('윤년, 평년을 판별할 년도를 입력하세요: '))\n",
    "\n",
    "# 단항 연산자 => 이항 연산자 => 삼항 연산자 => 대입 연산자\n",
    "# 이항 연산자: ** => *, /, //, % => +, -, => 관계 연산자 => 논리 연산자(not => and => or)\n",
    "\n",
    "# 프로그램에서 여러 번 사용되는 상수나 연산식의 결과는 변수에 저장시켜 사용하면 관리(유지보수)가 편리해진다.\n",
    "# 논리값을 기억하는 변수나 리턴값이 논리값인 함수의 이름은 'is'로 시작하는 것이 관행이다.\n",
    "isLeapYear = year % 4 == 0 and year % 100 != 0 or year % 400 == 0\n",
    "\n",
    "if isLeapYear:\n",
    "    print('{}년은 윤년입니다.'.format(year))\n",
    "else:\n",
    "    print('{}년은 평년입니다.'.format(year))\n",
    "    \n",
    "print('{}년은 {}년입니다.'.format(year, '윤' if isLeapYear else '평' ))"
   ]
  },
  {
   "cell_type": "markdown",
   "id": "0a79c9d6",
   "metadata": {},
   "source": [
    "가위 바위 보 게임 짜오기, 1이면 가위, 2이면 바위 , 3이면 보가 나오게 하는 게임 7월 28일까지 짜오기"
   ]
  },
  {
   "cell_type": "code",
   "execution_count": 36,
   "id": "d73e36a9",
   "metadata": {},
   "outputs": [
    {
     "name": "stdout",
     "output_type": "stream",
     "text": [
      "cpu: 2\n",
      "가위(1), 바위(2), 보(3): 2\n",
      "user: 2\n",
      "비겼다.\n"
     ]
    }
   ],
   "source": [
    "# 가위(1), 바위(2), 보(3)\n",
    "# 컴퓨터가 랜덤하게 뽑아낸 가위, 바위, 보와 사용자가 입력한 가위, 바위, 보를 비교한다.\n",
    "\n",
    "# 난수를 발생시키기 위해서 random 모듈을 import 시킨다.\n",
    "import random\n",
    "\n",
    "# 난수 발생은 randrange(a, b) 메소드를 사용하고 a 부터 b - 1 사이의 난수를 정수로 발생시킨다.\n",
    "# 난수를 실수로 발생시키고 싶다면 random() 메소드를 사용하면 된다. => 0 이상이고 1미만인 난수를 실수로 발생시킨다.\n",
    "# print(random.random())\n",
    "# print(random.randrange(1, 46))\n",
    "cpu = random.randrange(1, 4)\n",
    "print('cpu: {}'.format(cpu))\n",
    "\n",
    "user = int(input('가위(1), 바위(2), 보(3): '))\n",
    "print('user: {}'.format(user))\n",
    "\n",
    "\n",
    "# 승리 조건 => cpu == 1 이고 user == 2 또는 cpu == 2 이고 user == 3 또는 cpu == 3 이고 user == 1\n",
    "# 승리 조건 => cpu == 1 이고 user == 3 또는 cpu == 2 이고 user == 1 또는 cpu == 3 이고 user == 2\n",
    "# 승리 조건과 패배 조건을 모두 만족하지 않을 경우 비김 조건이 된다.\n",
    "if (cpu == 1 and user == 2 ) or (cpu == 2 and user == 3) or (cpu == 3 and user == 1):\n",
    "    print('이겼다.')\n",
    "elif (cpu == 1 and user == 3 ) or (cpu == 2 and user == 1) or (cpu == 3 and user == 2):\n",
    "    print('졌다.')\n",
    "else:\n",
    "    print('비겼다.')"
   ]
  },
  {
   "cell_type": "code",
   "execution_count": null,
   "id": "a89b42ed",
   "metadata": {},
   "outputs": [],
   "source": []
  },
  {
   "cell_type": "code",
   "execution_count": null,
   "id": "76100f2b",
   "metadata": {},
   "outputs": [],
   "source": []
  },
  {
   "cell_type": "code",
   "execution_count": null,
   "id": "83c78c51",
   "metadata": {},
   "outputs": [],
   "source": []
  },
  {
   "cell_type": "code",
   "execution_count": null,
   "id": "512b5f70",
   "metadata": {},
   "outputs": [],
   "source": []
  },
  {
   "cell_type": "code",
   "execution_count": null,
   "id": "3280e2a2",
   "metadata": {},
   "outputs": [],
   "source": []
  }
 ],
 "metadata": {
  "kernelspec": {
   "display_name": "Python 3 (ipykernel)",
   "language": "python",
   "name": "python3"
  },
  "language_info": {
   "codemirror_mode": {
    "name": "ipython",
    "version": 3
   },
   "file_extension": ".py",
   "mimetype": "text/x-python",
   "name": "python",
   "nbconvert_exporter": "python",
   "pygments_lexer": "ipython3",
   "version": "3.9.6"
  }
 },
 "nbformat": 4,
 "nbformat_minor": 5
}

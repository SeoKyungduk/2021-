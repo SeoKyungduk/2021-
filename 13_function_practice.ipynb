{
 "cells": [
  {
   "cell_type": "code",
   "execution_count": 1,
   "id": "1be0dcf0",
   "metadata": {},
   "outputs": [],
   "source": [
    "def number_sum(num1, num2):\n",
    "    result = num1 + num2\n",
    "    return result"
   ]
  },
  {
   "cell_type": "code",
   "execution_count": 2,
   "id": "b087fe4d",
   "metadata": {},
   "outputs": [
    {
     "data": {
      "text/plain": [
       "30"
      ]
     },
     "execution_count": 2,
     "metadata": {},
     "output_type": "execute_result"
    }
   ],
   "source": [
    "number_sum(10, 20)"
   ]
  },
  {
   "cell_type": "code",
   "execution_count": 3,
   "id": "41cc423c",
   "metadata": {},
   "outputs": [
    {
     "name": "stdout",
     "output_type": "stream",
     "text": [
      "30\n"
     ]
    }
   ],
   "source": [
    "a = number_sum(10, 20)\n",
    "print(a)"
   ]
  },
  {
   "cell_type": "code",
   "execution_count": 12,
   "id": "12ad67c0",
   "metadata": {},
   "outputs": [],
   "source": [
    "def number_minus(num1, num2):\n",
    "    result = num1 - num2\n",
    "    return result"
   ]
  },
  {
   "cell_type": "code",
   "execution_count": 13,
   "id": "1805b290",
   "metadata": {},
   "outputs": [
    {
     "name": "stdout",
     "output_type": "stream",
     "text": [
      "첫 번째 정수를 입력하세요: 10\n",
      "두 번째 정수를 입력하세요: 5\n",
      "5\n"
     ]
    }
   ],
   "source": [
    "num1 = int(input('첫 번째 정수를 입력하세요: '))\n",
    "num2 = int(input('두 번째 정수를 입력하세요: '))\n",
    "result = number_minus(num1, num2)\n",
    "print(result)"
   ]
  },
  {
   "cell_type": "code",
   "execution_count": 14,
   "id": "d1d18d80",
   "metadata": {},
   "outputs": [],
   "source": [
    "def s_replace(str_test):\n",
    "    return str_test.replace('ㅋ', '')"
   ]
  },
  {
   "cell_type": "code",
   "execution_count": 16,
   "id": "ab9fbcc0",
   "metadata": {},
   "outputs": [
    {
     "name": "stdout",
     "output_type": "stream",
     "text": [
      "문자를 입력해주세요: ㅋㅋ바보ㅋㅋ\n"
     ]
    },
    {
     "data": {
      "text/plain": [
       "'바보'"
      ]
     },
     "execution_count": 16,
     "metadata": {},
     "output_type": "execute_result"
    }
   ],
   "source": [
    "s = input('문자를 입력해주세요: ')\n",
    "result = s_replace(s)\n",
    "result"
   ]
  },
  {
   "cell_type": "code",
   "execution_count": 22,
   "id": "8b2aa807",
   "metadata": {},
   "outputs": [],
   "source": [
    "def calculate(num1, num2, op):\n",
    "    if op == '+':\n",
    "        result = num1 + num2\n",
    "    elif op == '-':\n",
    "        result = num1 - num2\n",
    "    return result"
   ]
  },
  {
   "cell_type": "code",
   "execution_count": 26,
   "id": "60e83e28",
   "metadata": {
    "scrolled": true
   },
   "outputs": [
    {
     "name": "stdout",
     "output_type": "stream",
     "text": [
      "첫 번째 정수를 입력해주세요: 10\n",
      "두 번째 정수를 입력해주세요: 20\n",
      "연산를 선택해주세요. (+, -): -\n"
     ]
    },
    {
     "data": {
      "text/plain": [
       "-10"
      ]
     },
     "execution_count": 26,
     "metadata": {},
     "output_type": "execute_result"
    }
   ],
   "source": [
    "num1 = int(input('첫 번째 정수를 입력해주세요: '))\n",
    "num2 = int(input('두 번째 정수를 입력해주세요: '))\n",
    "op = input('연산를 선택해주세요. (+, -): ')\n",
    "result = calculate(num1, num2, op)\n",
    "result"
   ]
  },
  {
   "cell_type": "code",
   "execution_count": 29,
   "id": "b6d20be6",
   "metadata": {},
   "outputs": [
    {
     "data": {
      "text/plain": [
       "-10"
      ]
     },
     "execution_count": 29,
     "metadata": {},
     "output_type": "execute_result"
    }
   ],
   "source": [
    "calculate(10, 20, '-')"
   ]
  },
  {
   "cell_type": "markdown",
   "id": "68bc8f86",
   "metadata": {},
   "source": [
    "가변 매개변수"
   ]
  },
  {
   "cell_type": "code",
   "execution_count": 30,
   "id": "eb89ff63",
   "metadata": {},
   "outputs": [],
   "source": [
    "def add(*args):\n",
    "    print(args)"
   ]
  },
  {
   "cell_type": "code",
   "execution_count": 32,
   "id": "92766daf",
   "metadata": {},
   "outputs": [
    {
     "name": "stdout",
     "output_type": "stream",
     "text": [
      "(10, 20, 30)\n"
     ]
    }
   ],
   "source": [
    "add(10, 20, 30)"
   ]
  },
  {
   "cell_type": "code",
   "execution_count": 33,
   "id": "af6e29a3",
   "metadata": {},
   "outputs": [],
   "source": [
    "def add(*args):\n",
    "    number_sum = 0\n",
    "    for num in args:\n",
    "        number_sum += num\n",
    "    return number_sum"
   ]
  },
  {
   "cell_type": "code",
   "execution_count": 34,
   "id": "c7358779",
   "metadata": {},
   "outputs": [
    {
     "data": {
      "text/plain": [
       "150"
      ]
     },
     "execution_count": 34,
     "metadata": {},
     "output_type": "execute_result"
    }
   ],
   "source": [
    "add(10, 20, 30, 40, 50)"
   ]
  },
  {
   "cell_type": "code",
   "execution_count": null,
   "id": "d9d3a0f4",
   "metadata": {},
   "outputs": [],
   "source": [
    "** 2개인 경우"
   ]
  },
  {
   "cell_type": "code",
   "execution_count": null,
   "id": "19a7325a",
   "metadata": {},
   "outputs": [],
   "source": []
  },
  {
   "cell_type": "code",
   "execution_count": null,
   "id": "2ba3ea99",
   "metadata": {},
   "outputs": [],
   "source": []
  },
  {
   "cell_type": "code",
   "execution_count": null,
   "id": "aa500c7c",
   "metadata": {},
   "outputs": [],
   "source": []
  },
  {
   "cell_type": "code",
   "execution_count": null,
   "id": "a909af1a",
   "metadata": {},
   "outputs": [],
   "source": []
  },
  {
   "cell_type": "code",
   "execution_count": null,
   "id": "efe4da1d",
   "metadata": {},
   "outputs": [],
   "source": []
  }
 ],
 "metadata": {
  "kernelspec": {
   "display_name": "Python 3 (ipykernel)",
   "language": "python",
   "name": "python3"
  },
  "language_info": {
   "codemirror_mode": {
    "name": "ipython",
    "version": 3
   },
   "file_extension": ".py",
   "mimetype": "text/x-python",
   "name": "python",
   "nbconvert_exporter": "python",
   "pygments_lexer": "ipython3",
   "version": "3.9.6"
  }
 },
 "nbformat": 4,
 "nbformat_minor": 5
}

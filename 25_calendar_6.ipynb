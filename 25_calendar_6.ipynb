{
 "cells": [
  {
   "cell_type": "code",
   "execution_count": 1,
   "id": "e08b4f7e",
   "metadata": {},
   "outputs": [],
   "source": [
    "# 여러 프로젝트에서 같은 모듈을 사용해야 한다면 프로젝트마다 같은 모듈을 복사해 넣을 경우 유지보수가 불편해 진다.\n",
    "# import 할 모듈을 프로젝트와 전혀 상관없는 폴더를 만들어 저장하고 sys 모듈을 import 하고 sys.path의 append() 메소드를 사용해서\n",
    "# import 할 모듈이 위치한 경로를 추가한다.\n",
    "import sys\n",
    "sys.path.append('C:\\\\userModule') # '\\' 때문에 에러가 발생되면 '\\\\' 또는 '/'로 수정해서 사용한다."
   ]
  },
  {
   "cell_type": "code",
   "execution_count": 2,
   "id": "b7bc4a35",
   "metadata": {},
   "outputs": [],
   "source": [
    "import calM as cm"
   ]
  },
  {
   "cell_type": "code",
   "execution_count": 3,
   "id": "4af4e1a2",
   "metadata": {},
   "outputs": [
    {
     "name": "stdout",
     "output_type": "stream",
     "text": [
      "달력을 출력한 년, 월을 입력하세요: 2021 8\n",
      "============================\n",
      "         2021년 8월\n",
      "============================\n",
      " 일  월  화  수  목  금  토 \n",
      "============================\n",
      "  1   2   3   4   5   6   7 \n",
      "  8   9  10  11  12  13  14 \n",
      " 15  16  17  18  19  20  21 \n",
      " 22  23  24  25  26  27  28 \n",
      " 29  30  31 \n",
      "============================\n"
     ]
    }
   ],
   "source": [
    "year,  month = map(int, input('달력을 출력한 년, 월을 입력하세요: ').split())\n",
    "\n",
    "print('='*28)\n",
    "print('         {0:4d}년{1:2d}월'.format(year, month))\n",
    "print('='*28)\n",
    "print(' 일  월  화  수  목  금  토 ')\n",
    "print('='*28)\n",
    "\n",
    "for i in range(cm.weekDay(year, month, 1)):\n",
    "    print('    ', end='')\n",
    "\n",
    "for i in range(1, cm.lastDay(year, month) + 1):\n",
    "    print(' {0:2d} '.format(i), end='')\n",
    "    if cm.weekDay(year, month, i) == 6 and i != cm.lastDay(year, month):\n",
    "        print()\n",
    "print('\\n' + '='*28)"
   ]
  },
  {
   "cell_type": "code",
   "execution_count": null,
   "id": "789fab98",
   "metadata": {},
   "outputs": [],
   "source": []
  },
  {
   "cell_type": "code",
   "execution_count": null,
   "id": "d3dfa0cd",
   "metadata": {},
   "outputs": [],
   "source": []
  },
  {
   "cell_type": "code",
   "execution_count": null,
   "id": "c51f9944",
   "metadata": {},
   "outputs": [],
   "source": []
  }
 ],
 "metadata": {
  "kernelspec": {
   "display_name": "Python 3 (ipykernel)",
   "language": "python",
   "name": "python3"
  },
  "language_info": {
   "codemirror_mode": {
    "name": "ipython",
    "version": 3
   },
   "file_extension": ".py",
   "mimetype": "text/x-python",
   "name": "python",
   "nbconvert_exporter": "python",
   "pygments_lexer": "ipython3",
   "version": "3.9.6"
  }
 },
 "nbformat": 4,
 "nbformat_minor": 5
}

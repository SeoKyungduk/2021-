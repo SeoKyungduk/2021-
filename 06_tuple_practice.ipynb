{
 "cells": [
  {
   "cell_type": "code",
   "execution_count": 2,
   "id": "423f2058",
   "metadata": {},
   "outputs": [
    {
     "name": "stdout",
     "output_type": "stream",
     "text": [
      "<class 'tuple'>\n",
      "()\n",
      "<class 'tuple'>\n",
      "()\n"
     ]
    }
   ],
   "source": [
    "a = ()\n",
    "print(type(a))\n",
    "print(a)\n",
    "b = tuple()\n",
    "print(type(b))\n",
    "print(b)"
   ]
  },
  {
   "cell_type": "code",
   "execution_count": 5,
   "id": "c3186016",
   "metadata": {},
   "outputs": [
    {
     "name": "stdout",
     "output_type": "stream",
     "text": [
      "<class 'list'>\n",
      "[1]\n",
      "<class 'int'>\n",
      "1\n",
      "<class 'tuple'>\n",
      "(1,)\n"
     ]
    }
   ],
   "source": [
    "a = [1]\n",
    "print(type(a))\n",
    "print(a)\n",
    "b = (1)\n",
    "print(type(b))\n",
    "print(b)\n",
    "c = (1,)\n",
    "print(type(c))\n",
    "print(c)"
   ]
  },
  {
   "cell_type": "code",
   "execution_count": 11,
   "id": "5019effd",
   "metadata": {},
   "outputs": [
    {
     "name": "stdout",
     "output_type": "stream",
     "text": [
      "(1, 2)\n",
      "('1', '2', '3')\n",
      "(1, 2, 3, 'a', 'b', 'c')\n",
      "(1, 2, 3, ('a', 'b', 'c'))\n",
      "(1, 2, 3, ['a', 'b', 'c'])\n",
      "[1, 2, 3, ('a', 'b', 'c')]\n"
     ]
    }
   ],
   "source": [
    "a = (1, 2)\n",
    "print(a)\n",
    "b = ('1' ,'2', '3')\n",
    "print(b)\n",
    "c = (1, 2, 3, 'a', 'b', 'c')\n",
    "print(c)\n",
    "d = (1, 2, 3, ('a', 'b', 'c'))\n",
    "print(d)\n",
    "e = (1, 2, 3, ['a', 'b', 'c'])\n",
    "print(e)\n",
    "f = [1, 2, 3, ('a', 'b', 'c')]\n",
    "print(f)"
   ]
  },
  {
   "cell_type": "code",
   "execution_count": 13,
   "id": "b2c7938b",
   "metadata": {},
   "outputs": [
    {
     "name": "stdout",
     "output_type": "stream",
     "text": [
      "(1, 2, 3, 4, 5, 6, 7)\n",
      "<class 'tuple'>\n"
     ]
    }
   ],
   "source": [
    "a = 1, 2, 3, 4, 5, 6, 7\n",
    "print(a)\n",
    "print(type(a))"
   ]
  },
  {
   "cell_type": "code",
   "execution_count": 21,
   "id": "e6228bf8",
   "metadata": {},
   "outputs": [
    {
     "name": "stdout",
     "output_type": "stream",
     "text": [
      "(1, 2, 3, 4, 5, 6, 7)\n",
      "1\n",
      "7\n",
      "(3, 4, 5)\n",
      "(1, 2, 3, 4, 5)\n",
      "(3, 4, 5, 6, 7)\n"
     ]
    }
   ],
   "source": [
    "a = 1, 2, 3, 4, 5, 6, 7\n",
    "print(a)\n",
    "print(a[0])\n",
    "print(a[-1])\n",
    "print(a[2:5])\n",
    "print(a[:5])\n",
    "print(a[2:])"
   ]
  },
  {
   "cell_type": "code",
   "execution_count": 26,
   "id": "53578309",
   "metadata": {},
   "outputs": [
    {
     "name": "stdout",
     "output_type": "stream",
     "text": [
      "(1, 2, 3)\n",
      "('a', 'b')\n",
      "(1, 2, 3, 1, 2, 3, 1, 2, 3)\n",
      "(1, 2, 3, 'a', 'b')\n"
     ]
    }
   ],
   "source": [
    "a = 1, 2, 3\n",
    "print(a)\n",
    "b = 'a', 'b'\n",
    "print(b)\n",
    "print(3*a)\n",
    "print(a+b)"
   ]
  },
  {
   "cell_type": "code",
   "execution_count": 30,
   "id": "957705e7",
   "metadata": {},
   "outputs": [
    {
     "name": "stdout",
     "output_type": "stream",
     "text": [
      "(1, 2, 3, 4, 5)\n"
     ]
    },
    {
     "ename": "NameError",
     "evalue": "name 'a' is not defined",
     "output_type": "error",
     "traceback": [
      "\u001b[1;31m---------------------------------------------------------------------------\u001b[0m",
      "\u001b[1;31mNameError\u001b[0m                                 Traceback (most recent call last)",
      "\u001b[1;32m~\\AppData\\Local\\Temp/ipykernel_11884/1423221923.py\u001b[0m in \u001b[0;36m<module>\u001b[1;34m\u001b[0m\n\u001b[0;32m      4\u001b[0m \u001b[1;31m# del a[0] 에러\u001b[0m\u001b[1;33m\u001b[0m\u001b[1;33m\u001b[0m\u001b[1;33m\u001b[0m\u001b[0m\n\u001b[0;32m      5\u001b[0m \u001b[1;32mdel\u001b[0m \u001b[0ma\u001b[0m\u001b[1;33m\u001b[0m\u001b[1;33m\u001b[0m\u001b[0m\n\u001b[1;32m----> 6\u001b[1;33m \u001b[0mprint\u001b[0m\u001b[1;33m(\u001b[0m\u001b[0ma\u001b[0m\u001b[1;33m)\u001b[0m\u001b[1;33m\u001b[0m\u001b[1;33m\u001b[0m\u001b[0m\n\u001b[0m",
      "\u001b[1;31mNameError\u001b[0m: name 'a' is not defined"
     ]
    }
   ],
   "source": [
    "a = 1, 2, 3, 4, 5\n",
    "print(a)\n",
    "# a[0] = 'a' 에러\n",
    "# del a[0] 에러\n",
    "del a\n",
    "print(a)"
   ]
  },
  {
   "cell_type": "code",
   "execution_count": 37,
   "id": "c00ccb7c",
   "metadata": {},
   "outputs": [
    {
     "name": "stdout",
     "output_type": "stream",
     "text": [
      "a = 3, b = 4\n",
      "a = 4, b = 3\n",
      "a = 3, b = 4\n",
      "a = 4, b = 3\n",
      "a = 3, b = 4\n"
     ]
    }
   ],
   "source": [
    "a = 3\n",
    "b = 4\n",
    "print('a = {}, b = {}'.format(a, b))\n",
    "\n",
    "temp = a\n",
    "a = b\n",
    "b = temp\n",
    "print('a = {}, b = {}'.format(a, b))\n",
    "\n",
    "(a, b) = (b, a)\n",
    "print('a = {}, b = {}'.format(a, b))\n",
    "\n",
    "[a, b] = [b, a]\n",
    "print('a = {}, b = {}'.format(a, b))\n",
    "\n",
    "a, b = b, a\n",
    "print('a = {}, b = {}'.format(a, b))"
   ]
  },
  {
   "cell_type": "code",
   "execution_count": null,
   "id": "2778494e",
   "metadata": {},
   "outputs": [],
   "source": []
  },
  {
   "cell_type": "code",
   "execution_count": null,
   "id": "ee5d43a5",
   "metadata": {},
   "outputs": [],
   "source": []
  },
  {
   "cell_type": "code",
   "execution_count": null,
   "id": "3fc8a441",
   "metadata": {},
   "outputs": [],
   "source": []
  },
  {
   "cell_type": "code",
   "execution_count": null,
   "id": "3b95007f",
   "metadata": {},
   "outputs": [],
   "source": []
  }
 ],
 "metadata": {
  "kernelspec": {
   "display_name": "Python 3 (ipykernel)",
   "language": "python",
   "name": "python3"
  },
  "language_info": {
   "codemirror_mode": {
    "name": "ipython",
    "version": 3
   },
   "file_extension": ".py",
   "mimetype": "text/x-python",
   "name": "python",
   "nbconvert_exporter": "python",
   "pygments_lexer": "ipython3",
   "version": "3.9.6"
  }
 },
 "nbformat": 4,
 "nbformat_minor": 5
}

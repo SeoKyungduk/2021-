{
 "cells": [
  {
   "cell_type": "code",
   "execution_count": 1,
   "id": "abfdd03a",
   "metadata": {},
   "outputs": [],
   "source": [
    "# import된 모듈의 특정 함수만 import 시켜서 사용하려면 아래와 같이 import 시키면 된다.\n",
    "# from 모듈이름 import 함수이름 => from 다음에 지정한 모듈의 모든 함수를 import 시키지 않고 지정한 함수만 import 된다.\n",
    "# 이와 같이 import 시키면 함수 이름 앞에 모듈 이름을 쓰지 않아도 된다.\n",
    "# from calendarModule import weekDay # calendarModule 이라는 모듈의 weekDay() 함수만 import 시킨다.\n",
    "# from calendarModule import lastDay # calendarModule 이라는 모듈의 lastDay() 함수만 import 시킨다."
   ]
  },
  {
   "cell_type": "code",
   "execution_count": 2,
   "id": "07828630",
   "metadata": {},
   "outputs": [],
   "source": [
    "# 위의 2문장에서 import 시키는 함수 weekDay(), lastDay()는 모두 calendarModule 모듈의 함수이므로 아래와 같이 사용할 수 있다.\n",
    "# from calendarModule import weekDay, lastDay"
   ]
  },
  {
   "cell_type": "code",
   "execution_count": 3,
   "id": "e08b4f7e",
   "metadata": {},
   "outputs": [],
   "source": [
    "# 아래와 같이 코딩하면 calendarModule 모듈의 모든 함수를 import 시켜서 사용할 수 있다.\n",
    "from calendarModule import *"
   ]
  },
  {
   "cell_type": "code",
   "execution_count": 4,
   "id": "4af4e1a2",
   "metadata": {},
   "outputs": [
    {
     "name": "stdout",
     "output_type": "stream",
     "text": [
      "달력을 출력한 년, 월을 입력하세요: 2021 8\n",
      "============================\n",
      "         2021년 8월\n",
      "============================\n",
      " 일  월  화  수  목  금  토 \n",
      "============================\n",
      "  1   2   3   4   5   6   7 \n",
      "  8   9  10  11  12  13  14 \n",
      " 15  16  17  18  19  20  21 \n",
      " 22  23  24  25  26  27  28 \n",
      " 29  30  31 \n",
      "============================\n"
     ]
    }
   ],
   "source": [
    "year,  month = map(int, input('달력을 출력한 년, 월을 입력하세요: ').split())\n",
    "\n",
    "print('='*28)\n",
    "print('         {0:4d}년{1:2d}월'.format(year, month))\n",
    "print('='*28)\n",
    "print(' 일  월  화  수  목  금  토 ')\n",
    "print('='*28)\n",
    "\n",
    "for i in range(weekDay(year, month, 1)):\n",
    "    print('    ', end='')\n",
    "\n",
    "for i in range(1, lastDay(year, month) + 1):\n",
    "    print(' {0:2d} '.format(i), end='')\n",
    "    if weekDay(year, month, i) == 6 and i != lastDay(year, month):\n",
    "        print()\n",
    "print('\\n' + '='*28)"
   ]
  },
  {
   "cell_type": "code",
   "execution_count": 5,
   "id": "6e07873e",
   "metadata": {},
   "outputs": [
    {
     "data": {
      "text/plain": [
       "['__builtins__',\n",
       " '__cached__',\n",
       " '__doc__',\n",
       " '__file__',\n",
       " '__loader__',\n",
       " '__name__',\n",
       " '__package__',\n",
       " '__spec__',\n",
       " 'isLeapYear',\n",
       " 'lastDay',\n",
       " 'totalDay',\n",
       " 'weekDay']"
      ]
     },
     "execution_count": 5,
     "metadata": {},
     "output_type": "execute_result"
    }
   ],
   "source": [
    "import calendarModule\n",
    "# 특정 모듈에 포함된 함수를 보고싶다면 모듈을 import 시킨 후 dir() 함수를 실행하면 볼 수 있다.\n",
    "dir(calendarModule)"
   ]
  },
  {
   "cell_type": "code",
   "execution_count": 6,
   "id": "ea0e058b",
   "metadata": {},
   "outputs": [
    {
     "name": "stdout",
     "output_type": "stream",
     "text": [
      "Help on module calendarModule:\n",
      "\n",
      "NAME\n",
      "    calendarModule - # coding: utf-8\n",
      "\n",
      "FUNCTIONS\n",
      "    isLeapYear(year)\n",
      "        # 인수로 년도를 넘겨받아 윤년, 평년을 판단해서 윤년이면 True, 평년이면 False를 리턴하는 함수\n",
      "        # 윤년, 평년 판별식 => 년도가 4에 떨어지고 100에 떨어지지 않거나 400에 떨어지면 윤년\n",
      "        # return 값이 논리값(True 또는 False)인 함수의 이름은 'is'로 시작하는 것이 관행이다.\n",
      "    \n",
      "    lastDay(year, month)\n",
      "        # 인수로 년, 월을 넘겨받아 그 달의 마지막 날짜를 리턴하는 함수\n",
      "    \n",
      "    totalDay(year, month, day)\n",
      "        # 인수로 년, 월, 일을 넘겨받아 1년 1월 1일 부터 지나온 날짜의 합계를 리턴하는 함수\n",
      "    \n",
      "    weekDay(year, month, day)\n",
      "        # 인수로 년, 월, 일을 넘겨받아 요일을 숫자로 리턴하는 함수\n",
      "        # 일요일(0), 월요일(1), 화욜일(2), 수요일(3), 목요일(4), 금요일(5), 토요일(6)\n",
      "\n",
      "FILE\n",
      "    c:\\python job\\work space\\calendarmodule.py\n",
      "\n",
      "\n"
     ]
    }
   ],
   "source": [
    "# help() 함수를 실행하면 모듈에서 함수 작성시 입력한 주석(moduleName)을 볼 수 있다.\n",
    "help(calendarModule)"
   ]
  },
  {
   "cell_type": "code",
   "execution_count": null,
   "id": "789fab98",
   "metadata": {},
   "outputs": [],
   "source": []
  },
  {
   "cell_type": "code",
   "execution_count": null,
   "id": "d3dfa0cd",
   "metadata": {},
   "outputs": [],
   "source": []
  },
  {
   "cell_type": "code",
   "execution_count": null,
   "id": "c51f9944",
   "metadata": {},
   "outputs": [],
   "source": []
  }
 ],
 "metadata": {
  "kernelspec": {
   "display_name": "Python 3 (ipykernel)",
   "language": "python",
   "name": "python3"
  },
  "language_info": {
   "codemirror_mode": {
    "name": "ipython",
    "version": 3
   },
   "file_extension": ".py",
   "mimetype": "text/x-python",
   "name": "python",
   "nbconvert_exporter": "python",
   "pygments_lexer": "ipython3",
   "version": "3.9.6"
  }
 },
 "nbformat": 4,
 "nbformat_minor": 5
}

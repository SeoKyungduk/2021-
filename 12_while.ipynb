{
 "cells": [
  {
   "cell_type": "markdown",
   "id": "5b9ccd18",
   "metadata": {},
   "source": [
    "while은 조건이 참인 동안 반복하다가 조건이 거짓이 되는 순간 반복이 종료된다.  \n",
    "while로 진입하는 최초 조건이 거짓일 경우 한 번도 반복을 실행하지 않는다.  \n",
    "for는 반복을 몇 번 해야하는지 아는 경우 사용하고 while은 반복을 하기는 해야겠는데 몇 번 반복해야 하는지 정확히 모를 경우 사용한다.  \n",
    "***\n",
    "while 조건식:  \n",
    "&nbsp;&nbsp;&nbsp;&nbsp;조건식이 참일 경우 반복할 문장  \n",
    "***"
   ]
  },
  {
   "cell_type": "code",
   "execution_count": 1,
   "id": "649be037",
   "metadata": {},
   "outputs": [
    {
     "name": "stdout",
     "output_type": "stream",
     "text": [
      "1 ~ 10의 합계: 55\n",
      "1 ~ 10의 합계: 55\n"
     ]
    }
   ],
   "source": [
    "# 1 ~ 10의 합계\n",
    "total = 0\n",
    "for i in range(1, 11, 1): # for는 초기치, 증가치, 최종치가 한 문장에 위치한다.\n",
    "    total += i\n",
    "print('1 ~ 10의 합계: {}'.format(total))\n",
    "\n",
    "i = 0         # 초기치\n",
    "total = 0\n",
    "while i < 10: # 최종치\n",
    "    i += 1    # 증가치\n",
    "    total += i\n",
    "print('1 ~ 10의 합계: {}'.format(total))"
   ]
  },
  {
   "cell_type": "code",
   "execution_count": 2,
   "id": "8e6dd35a",
   "metadata": {},
   "outputs": [
    {
     "name": "stdout",
     "output_type": "stream",
     "text": [
      "1\n",
      "2\n",
      "3\n",
      "4\n",
      "5\n",
      "================================================================================\n",
      "1\n",
      "2\n",
      "3\n",
      "4\n",
      "5\n",
      "7\n",
      "8\n",
      "9\n",
      "10\n"
     ]
    }
   ],
   "source": [
    "# while 명령의 조건식이 항상 참이면 무한루프가 된다.\n",
    "# 사용자가 의도적으로 무한루프를 발생시켰다면 반드시 무한루프를 종료하는 처리를 해야한다. => 반복 탈출시 break 명령을 사용한다.\n",
    "# break는 for나 while 같은 반복문의 실행을 중지시킨다.\n",
    "for i in range(1, 11):\n",
    "    if i == 6:\n",
    "        break # 반복 탈출\n",
    "    print(i)\n",
    "print('=' * 80)\n",
    "# break 명령은 break 다음 문장들을 실행하지 않고 반복을 중지하고 continue 명령은 continue 명령 다음 문장들을 실행하지 않고 계속 반복을 실행한다.\n",
    "for i in range(1, 11):\n",
    "    if i == 6:\n",
    "        continue # 반복 탈출\n",
    "    print(i)"
   ]
  },
  {
   "cell_type": "code",
   "execution_count": 25,
   "id": "a973ad1d",
   "metadata": {},
   "outputs": [
    {
     "name": "stdout",
     "output_type": "stream",
     "text": [
      "========================================\n",
      " 1.입력  2.보기  3.수정  4.삭제  5.종료 \n",
      "========================================\n",
      "원하는 메뉴를 입력하고 엔터키를 누르세요: 7\n",
      "메뉴는 1 ~ 5 사이의 값만 입력해야 합니다.\n",
      "========================================\n",
      " 1.입력  2.보기  3.수정  4.삭제  5.종료 \n",
      "========================================\n",
      "원하는 메뉴를 입력하고 엔터키를 누르세요: 2\n",
      "보기 작업 실행\n",
      "========================================\n",
      " 1.입력  2.보기  3.수정  4.삭제  5.종료 \n",
      "========================================\n",
      "원하는 메뉴를 입력하고 엔터키를 누르세요: 5\n",
      "프로그램을 종료합니다. 바이바이~~~~~~\n"
     ]
    }
   ],
   "source": [
    "menu = 0\n",
    "while menu != 5:\n",
    "    while True:\n",
    "        print('=' * 40)\n",
    "        print(' 1.입력  2.보기  3.수정  4.삭제  5.종료 ')\n",
    "        print('=' * 40)\n",
    "        menu = int(input('원하는 메뉴를 입력하고 엔터키를 누르세요: '))\n",
    "        # if 1 <= menu <= 5:\n",
    "        if menu >= 1 and menu <= 5:\n",
    "        # if menu in [1, 2, 3, 4, 5]:\n",
    "            break\n",
    "        # ===== if 1 <= menu <= 5\n",
    "        print('메뉴는 1 ~ 5 사이의 값만 입력해야 합니다.')\n",
    "    # ==== While True\n",
    "\n",
    "    # 여기까지 왔다면 메뉴에는 1 ~ 5 사이의 정수가 입력되었다는 의미이다.\n",
    "    if menu == 1:\n",
    "        print('입력 작업 실행')\n",
    "    elif menu == 2:\n",
    "        print('보기 작업 실행')\n",
    "    elif menu == 3:\n",
    "        print('수정 작업 실행')\n",
    "    elif menu == 4:\n",
    "        print('삭제 작업 실행')\n",
    "# ===== while menu != 5\n",
    "print('프로그램을 종료합니다. 바이바이~~~~~~')"
   ]
  },
  {
   "cell_type": "markdown",
   "id": "99859d79",
   "metadata": {},
   "source": [
    "로또 번호 생성기"
   ]
  },
  {
   "cell_type": "code",
   "execution_count": 26,
   "id": "63b636af",
   "metadata": {},
   "outputs": [],
   "source": [
    "import random"
   ]
  },
  {
   "cell_type": "code",
   "execution_count": 33,
   "id": "942647bf",
   "metadata": {},
   "outputs": [
    {
     "name": "stdout",
     "output_type": "stream",
     "text": [
      "19{19}\n",
      " 9{9, 19}\n",
      "23{9, 19, 23}\n",
      "29{9, 19, 29, 23}\n",
      "24{9, 19, 23, 24, 29}\n",
      "35{35, 9, 19, 23, 24, 29}\n",
      "1등 번호: {35, 9, 19, 23, 24, 29}\n",
      "12\n",
      "보너스 번호: 12\n"
     ]
    }
   ],
   "source": [
    "lotto = set() # 로또 번호를 기억할 빈 set을 만든다.\n",
    "# 1등 번호\n",
    "while True:\n",
    "    lottoNumber = random.randrange(1, 46)\n",
    "    print('{0:2d}'.format(lottoNumber), end ='')\n",
    "    lotto.add(lottoNumber) # set에 로또 번호를 추가한다.\n",
    "    print(lotto)\n",
    "    # 중복되지 않는 숫자 6개가 lotto set에 저장되면 무한루프를 탈출한다.\n",
    "    if len(lotto) == 6:\n",
    "        break\n",
    "# ====== while True\n",
    "print('1등 번호: {}'.format(lotto))\n",
    "\n",
    "# 보너스 번호\n",
    "while True:\n",
    "    bonus = random.randrange(1, 46)\n",
    "    print('{0:2d}'.format(bonus))\n",
    "    if bonus not in lotto:\n",
    "        break\n",
    "# ===== while True\n",
    "print('보너스 번호: {}'.format(bonus))"
   ]
  },
  {
   "cell_type": "code",
   "execution_count": 47,
   "id": "af08bb0d",
   "metadata": {},
   "outputs": [
    {
     "name": "stdout",
     "output_type": "stream",
     "text": [
      "33\n",
      "{33}\n",
      "26\n",
      "{33, 26}\n",
      "18\n",
      "{33, 26, 18}\n",
      "42\n",
      "{33, 26, 18, 42}\n",
      "28\n",
      "{33, 42, 18, 26, 28}\n",
      "흰공의 숫자는 다음과 같습니다: {33, 42, 18, 26, 28}\n",
      " 2\n",
      "빨강공의 숫자는 다음과 같습니다: 2\n",
      "따라서 이번 로또 번호는 다음과 같습니다. {33, 42, 18, 26, 28} + 2\n"
     ]
    }
   ],
   "source": [
    "# 미국 로또(파워볼)는 흰공(1 ~ 69)에서 5개, 빨강공(1 ~ 26)에서 1개\n",
    "lotto = set()\n",
    "while True:\n",
    "    lottoNumber = random.randrange(1, 69)\n",
    "    print('{0:2d}'.format(lottoNumber))\n",
    "    lotto.add(lottoNumber)\n",
    "    print(lotto)\n",
    "    if len(lotto) == 5:\n",
    "        break\n",
    "print('흰공의 숫자는 다음과 같습니다: {}'.format(lotto))\n",
    "while True:\n",
    "    redball = random.randrange(1, 26)\n",
    "    print('{0:2d}'.format(redball))\n",
    "    if redball not in lotto:\n",
    "        break\n",
    "print('빨강공의 숫자는 다음과 같습니다: {}'.format(redball))\n",
    "\n",
    "print('따라서 이번 로또 번호는 다음과 같습니다. {0} + {1}'.format(lotto, redball))"
   ]
  },
  {
   "cell_type": "code",
   "execution_count": null,
   "id": "6e030b6a",
   "metadata": {},
   "outputs": [],
   "source": []
  },
  {
   "cell_type": "code",
   "execution_count": null,
   "id": "52d58971",
   "metadata": {},
   "outputs": [],
   "source": []
  }
 ],
 "metadata": {
  "kernelspec": {
   "display_name": "Python 3 (ipykernel)",
   "language": "python",
   "name": "python3"
  },
  "language_info": {
   "codemirror_mode": {
    "name": "ipython",
    "version": 3
   },
   "file_extension": ".py",
   "mimetype": "text/x-python",
   "name": "python",
   "nbconvert_exporter": "python",
   "pygments_lexer": "ipython3",
   "version": "3.9.6"
  }
 },
 "nbformat": 4,
 "nbformat_minor": 5
}

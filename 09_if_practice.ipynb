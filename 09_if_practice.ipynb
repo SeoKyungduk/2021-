{
 "cells": [
  {
   "cell_type": "code",
   "execution_count": 1,
   "id": "9fe38d55",
   "metadata": {},
   "outputs": [
    {
     "name": "stdout",
     "output_type": "stream",
     "text": [
      "실행문장 실행\n"
     ]
    }
   ],
   "source": [
    "if True:\n",
    "    print(\"실행문장 실행\")\n",
    "if False:\n",
    "    print(\"실행문장 실행하지마세요.\")"
   ]
  },
  {
   "cell_type": "code",
   "execution_count": 2,
   "id": "d814922d",
   "metadata": {},
   "outputs": [
    {
     "name": "stdout",
     "output_type": "stream",
     "text": [
      "나이를 입력하세요: 20\n",
      "<class 'int'>\n",
      "성인입니다. 어서오세요.\n"
     ]
    }
   ],
   "source": [
    "age = int(input('나이를 입력하세요: '))\n",
    "print(type(age))\n",
    "\n",
    "if age >= 19:\n",
    "    print('성인입니다. 어서오세요.')\n",
    "else:\n",
    "    print('미성년자입니다. 안녕히가세요.')"
   ]
  },
  {
   "cell_type": "code",
   "execution_count": 3,
   "id": "2b1e5709",
   "metadata": {},
   "outputs": [
    {
     "name": "stdout",
     "output_type": "stream",
     "text": [
      "갖고 있는 돈이 얼마입니까?: 12000\n",
      "택시를 탄다.\n"
     ]
    }
   ],
   "source": [
    "money = int(input('갖고 있는 돈이 얼마입니까?: '))\n",
    "\n",
    "if money >= 10000 :\n",
    "    print('택시를 탄다.')\n",
    "else:\n",
    "    print('돈이 없다. 걸어간다.')"
   ]
  },
  {
   "cell_type": "code",
   "execution_count": 4,
   "id": "c3115916",
   "metadata": {},
   "outputs": [
    {
     "name": "stdout",
     "output_type": "stream",
     "text": [
      "택시를 탄다.\n"
     ]
    }
   ],
   "source": [
    "money = 12000\n",
    "\n",
    "if money >= 10000:\n",
    "    print('택시를 탄다.')\n",
    "else:\n",
    "    print('버스를 탄다.')"
   ]
  },
  {
   "cell_type": "code",
   "execution_count": 5,
   "id": "94df84b1",
   "metadata": {},
   "outputs": [
    {
     "name": "stdout",
     "output_type": "stream",
     "text": [
      "버스를 탄다.\n"
     ]
    }
   ],
   "source": [
    "money = 9000\n",
    "if money >= 10000:\n",
    "    print('택시를 탄다.')\n",
    "else:\n",
    "    print('버스를 탄다.')"
   ]
  },
  {
   "cell_type": "code",
   "execution_count": 9,
   "id": "04b3435e",
   "metadata": {},
   "outputs": [
    {
     "name": "stdout",
     "output_type": "stream",
     "text": [
      "첫 번째 정수 입력: 5\n",
      "두 번째 정수 입력: 5\n",
      "두 정수는 같습니다.\n"
     ]
    }
   ],
   "source": [
    "num1 = int(input('첫 번째 정수 입력: '))\n",
    "num2 = int(input('두 번째 정수 입력: '))\n",
    "\n",
    "if num1 > num2 :\n",
    "    print('첫 번째 정수가 더 큽니다.')\n",
    "elif num1 < num2 :\n",
    "    print('두 번째 정수가 더 큽니다.')\n",
    "elif num1 == num2 :\n",
    "    print('두 정수는 같습니다.')"
   ]
  },
  {
   "cell_type": "code",
   "execution_count": 17,
   "id": "77a7123a",
   "metadata": {},
   "outputs": [
    {
     "name": "stdout",
     "output_type": "stream",
     "text": [
      "수학 점수를 입력하세요: 20\n",
      "수학 등급은 F입니다.\n",
      "20점은 F학점입니다.\n"
     ]
    }
   ],
   "source": [
    "math = int(input('수학 점수를 입력하세요: '))\n",
    "\n",
    "if math >= 90:\n",
    "    print('수학 등급은 A입니다.')\n",
    "    result = \"A\"\n",
    "elif 80 <= math < 90:\n",
    "    print('수학 등급은 B입니다.')\n",
    "    result = \"B\"\n",
    "elif 70 <= math < 80:\n",
    "    print('수학 등급은 C입니다.')\n",
    "    result = \"C\"\n",
    "elif 60 <= math < 70:\n",
    "    print('수학 등급은 D입니다.')\n",
    "    result = \"D\"\n",
    "else:\n",
    "    print('수학 등급은 F입니다.')\n",
    "    result = \"F\"\n",
    "    \n",
    "print('{}점은 {}학점입니다.'.format(math, result ))"
   ]
  },
  {
   "cell_type": "code",
   "execution_count": 11,
   "id": "12b593e9",
   "metadata": {},
   "outputs": [
    {
     "name": "stdout",
     "output_type": "stream",
     "text": [
      "주민번호 13자리를 입력하세요: 9904182233445\n",
      "여자\n",
      "여자\n",
      "여자\n",
      "여자\n",
      "여자\n",
      "여자\n",
      "여자\n"
     ]
    }
   ],
   "source": [
    "# 성별\n",
    "a = input('주민번호 13자리를 입력하세요: ')\n",
    "\n",
    "if a[6] == '1' or a[6] == '3' or a[6] == '5':\n",
    "    print('남자')\n",
    "else:\n",
    "    print('여자')\n",
    "if a[6] in ['1', '3', '5']:\n",
    "    print('남자')\n",
    "else:\n",
    "    print('여자')\n",
    "if a[6] not in ['1', '3', '5']:\n",
    "    print('여자')\n",
    "else:\n",
    "    print('남자')\n",
    "if int(a[6]) == '1' or int(a[6]) == '3' or int(a[6]) == '5':\n",
    "    print('남자')\n",
    "else:\n",
    "    print('여자')\n",
    "if int(a[6]) in (1, 3, 5):\n",
    "    print('남자')\n",
    "else:\n",
    "    print('여자')\n",
    "if int(a[6]) not in (1, 3, 5):\n",
    "    print('여자')\n",
    "else:\n",
    "    print('남자')\n",
    "if int(a[6]) % 2 == 1 :\n",
    "    print('남자')\n",
    "else:\n",
    "    print('여자')"
   ]
  },
  {
   "cell_type": "code",
   "execution_count": 15,
   "id": "88bd8f52",
   "metadata": {},
   "outputs": [
    {
     "name": "stdout",
     "output_type": "stream",
     "text": [
      "축구 점수를 입력해주세요 : 0\n",
      "음료수\n"
     ]
    }
   ],
   "source": [
    "# 축구 스코어 내기 - if문 연습하기\n",
    "\n",
    "score = int(input('축구 점수를 입력해주세요 : '))\n",
    "\n",
    "if score <= 0 :\n",
    "    print('음료수')\n",
    "elif 1<=score<2 :\n",
    "    print('햄버거')\n",
    "elif 2<=score<3 :\n",
    "    print('족발')\n",
    "else:\n",
    "    print('소원 한 개 들어주기')"
   ]
  },
  {
   "cell_type": "code",
   "execution_count": null,
   "id": "885faffe",
   "metadata": {},
   "outputs": [],
   "source": []
  },
  {
   "cell_type": "code",
   "execution_count": null,
   "id": "e37c00ac",
   "metadata": {},
   "outputs": [],
   "source": []
  },
  {
   "cell_type": "code",
   "execution_count": null,
   "id": "97dc54e9",
   "metadata": {},
   "outputs": [],
   "source": []
  },
  {
   "cell_type": "code",
   "execution_count": null,
   "id": "ef008de2",
   "metadata": {},
   "outputs": [],
   "source": []
  }
 ],
 "metadata": {
  "kernelspec": {
   "display_name": "Python 3 (ipykernel)",
   "language": "python",
   "name": "python3"
  },
  "language_info": {
   "codemirror_mode": {
    "name": "ipython",
    "version": 3
   },
   "file_extension": ".py",
   "mimetype": "text/x-python",
   "name": "python",
   "nbconvert_exporter": "python",
   "pygments_lexer": "ipython3",
   "version": "3.9.6"
  }
 },
 "nbformat": 4,
 "nbformat_minor": 5
}
